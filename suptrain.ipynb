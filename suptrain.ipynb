{
  "cells": [
    {
      "attachments": {},
      "cell_type": "markdown",
      "metadata": {
        "colab_type": "text",
        "id": "view-in-github"
      },
      "source": [
        "<a href=\"https://colab.research.google.com/github/gvogiatzis/trafficsim/blob/main/suptrain.ipynb\" target=\"_parent\"><img src=\"https://colab.research.google.com/assets/colab-badge.svg\" alt=\"Open In Colab\"/></a>"
      ]
    },
    {
      "cell_type": "code",
      "execution_count": null,
      "metadata": {
        "id": "fPUBqSGoe9as"
      },
      "outputs": [],
      "source": [
        "!git clone https://github.com/gvogiatzis/trafficsim.git"
      ]
    },
    {
      "cell_type": "code",
      "execution_count": null,
      "metadata": {
        "colab": {
          "base_uri": "https://localhost:8080/"
        },
        "id": "-bPB5Ej3FN4P",
        "outputId": "c2d1b87b-1eff-462b-cf66-3bba61f25e24"
      },
      "outputs": [],
      "source": [
        "cd trafficsim"
      ]
    },
    {
      "cell_type": "code",
      "execution_count": 3,
      "metadata": {
        "id": "s5fjJMaT_Ozm"
      },
      "outputs": [
        {
          "name": "stdout",
          "output_type": "stream",
          "text": [
            "--2023-07-04 17:58:47--  https://7d9c-80-195-93-221.ngrok-free.app/sumo_data/flowmat.txt\n",
            "Resolving 7d9c-80-195-93-221.ngrok-free.app (7d9c-80-195-93-221.ngrok-free.app)... 3.124.142.205, 3.125.209.94, 18.158.249.75, ...\n",
            "Connecting to 7d9c-80-195-93-221.ngrok-free.app (7d9c-80-195-93-221.ngrok-free.app)|3.124.142.205|:443... connected.\n",
            "HTTP request sent, awaiting response... 404 Not Found\n",
            "2023-07-04 17:58:47 ERROR 404: Not Found.\n",
            "\n"
          ]
        }
      ],
      "source": [
        "!wget \"https://7d9c-80-195-93-221.ngrok-free.app/sumo_data/flowmat.txt\""
      ]
    },
    {
      "cell_type": "code",
      "execution_count": 12,
      "metadata": {
        "id": "grrbTw39_hTp"
      },
      "outputs": [],
      "source": [
        "from rl import SupervisedLearningPretrainer\n",
        "\n",
        "import matplotlib.pyplot as plt\n",
        "import torch\n",
        "import tqdm\n",
        "import numpy as np\n",
        "\n",
        "from rl.models import MLPnet, loadModel, saveModel, loadModel_from_dict\n",
        "import matplotlib.pyplot as plt\n",
        "\n",
        "num_epochs = 5\n",
        "network_layers = \"1024x1024\"\n",
        "dataset_size = 100000\n",
        "network_layers = [int(s) for s in network_layers.split(\"x\") if s.isnumeric()]\n",
        "out_model_fname = \"sup_model.pt\"\n",
        "flowmat_fname = \"flowmat.txt\""
      ]
    },
    {
      "cell_type": "code",
      "execution_count": 13,
      "metadata": {
        "colab": {
          "base_uri": "https://localhost:8080/",
          "height": 1000
        },
        "id": "AmNH_OikAY3k",
        "outputId": "38326cf0-4d9e-4ba0-ab13-3ae1b898189a"
      },
      "outputs": [
        {
          "name": "stdout",
          "output_type": "stream",
          "text": [
            "Generating dataset:\n"
          ]
        },
        {
          "name": "stderr",
          "output_type": "stream",
          "text": [
            "100%|██████████| 100000/100000 [00:09<00:00, 11027.33it/s]\n"
          ]
        },
        {
          "data": {
            "text/html": [
              "<pre style=\"white-space:pre;overflow-x:auto;line-height:normal;font-family:Menlo,'DejaVu Sans Mono',consolas,'Courier New',monospace\">Epoch <span style=\"color: #808000; text-decoration-color: #808000\">1/5</span> Training: </pre>\n"
            ],
            "text/plain": [
              "Epoch \u001b[33m1/5\u001b[0m Training: "
            ]
          },
          "metadata": {},
          "output_type": "display_data"
        },
        {
          "name": "stderr",
          "output_type": "stream",
          "text": [
            "100%|██████████| 1251/1251 [00:16<00:00, 73.88it/s]\n"
          ]
        },
        {
          "data": {
            "text/html": [
              "<pre style=\"white-space:pre;overflow-x:auto;line-height:normal;font-family:Menlo,'DejaVu Sans Mono',consolas,'Courier New',monospace\">Avg Training loss: <span style=\"color: #000080; text-decoration-color: #000080\">3.3259</span> Avg Training Acc: <span style=\"color: #008000; text-decoration-color: #008000\">23.4</span> Testing:</pre>\n"
            ],
            "text/plain": [
              "Avg Training loss: \u001b[34m3.3259\u001b[0m Avg Training Acc: \u001b[32m23.4\u001b[0m Testing:"
            ]
          },
          "metadata": {},
          "output_type": "display_data"
        },
        {
          "data": {
            "text/html": [
              "<pre style=\"white-space:pre;overflow-x:auto;line-height:normal;font-family:Menlo,'DejaVu Sans Mono',consolas,'Courier New',monospace\">Avg Test loss: <span style=\"color: #000080; text-decoration-color: #000080\">8.4952</span> Avg Test Acc: <span style=\"color: #008000; text-decoration-color: #008000\">7.3</span>\n",
              "</pre>\n"
            ],
            "text/plain": [
              "Avg Test loss: \u001b[34m8.4952\u001b[0m Avg Test Acc: \u001b[32m7.3\u001b[0m\n"
            ]
          },
          "metadata": {},
          "output_type": "display_data"
        },
        {
          "data": {
            "text/html": [
              "<pre style=\"white-space:pre;overflow-x:auto;line-height:normal;font-family:Menlo,'DejaVu Sans Mono',consolas,'Courier New',monospace\">Epoch <span style=\"color: #808000; text-decoration-color: #808000\">2/5</span> Training: </pre>\n"
            ],
            "text/plain": [
              "Epoch \u001b[33m2/5\u001b[0m Training: "
            ]
          },
          "metadata": {},
          "output_type": "display_data"
        },
        {
          "name": "stderr",
          "output_type": "stream",
          "text": [
            "100%|██████████| 1251/1251 [00:17<00:00, 73.58it/s]\n"
          ]
        },
        {
          "data": {
            "text/html": [
              "<pre style=\"white-space:pre;overflow-x:auto;line-height:normal;font-family:Menlo,'DejaVu Sans Mono',consolas,'Courier New',monospace\">Avg Training loss: <span style=\"color: #000080; text-decoration-color: #000080\">1.2527</span> Avg Training Acc: <span style=\"color: #008000; text-decoration-color: #008000\">56.7</span> Testing:</pre>\n"
            ],
            "text/plain": [
              "Avg Training loss: \u001b[34m1.2527\u001b[0m Avg Training Acc: \u001b[32m56.7\u001b[0m Testing:"
            ]
          },
          "metadata": {},
          "output_type": "display_data"
        },
        {
          "data": {
            "text/html": [
              "<pre style=\"white-space:pre;overflow-x:auto;line-height:normal;font-family:Menlo,'DejaVu Sans Mono',consolas,'Courier New',monospace\">Avg Test loss: <span style=\"color: #000080; text-decoration-color: #000080\">1.1574</span> Avg Test Acc: <span style=\"color: #008000; text-decoration-color: #008000\">58.3</span>\n",
              "</pre>\n"
            ],
            "text/plain": [
              "Avg Test loss: \u001b[34m1.1574\u001b[0m Avg Test Acc: \u001b[32m58.3\u001b[0m\n"
            ]
          },
          "metadata": {},
          "output_type": "display_data"
        },
        {
          "data": {
            "text/html": [
              "<pre style=\"white-space:pre;overflow-x:auto;line-height:normal;font-family:Menlo,'DejaVu Sans Mono',consolas,'Courier New',monospace\">Epoch <span style=\"color: #808000; text-decoration-color: #808000\">3/5</span> Training: </pre>\n"
            ],
            "text/plain": [
              "Epoch \u001b[33m3/5\u001b[0m Training: "
            ]
          },
          "metadata": {},
          "output_type": "display_data"
        },
        {
          "name": "stderr",
          "output_type": "stream",
          "text": [
            "100%|██████████| 1251/1251 [00:17<00:00, 73.50it/s]\n"
          ]
        },
        {
          "data": {
            "text/html": [
              "<pre style=\"white-space:pre;overflow-x:auto;line-height:normal;font-family:Menlo,'DejaVu Sans Mono',consolas,'Courier New',monospace\">Avg Training loss: <span style=\"color: #000080; text-decoration-color: #000080\">0.9168</span> Avg Training Acc: <span style=\"color: #008000; text-decoration-color: #008000\">66.9</span> Testing:</pre>\n"
            ],
            "text/plain": [
              "Avg Training loss: \u001b[34m0.9168\u001b[0m Avg Training Acc: \u001b[32m66.9\u001b[0m Testing:"
            ]
          },
          "metadata": {},
          "output_type": "display_data"
        },
        {
          "data": {
            "text/html": [
              "<pre style=\"white-space:pre;overflow-x:auto;line-height:normal;font-family:Menlo,'DejaVu Sans Mono',consolas,'Courier New',monospace\">Avg Test loss: <span style=\"color: #000080; text-decoration-color: #000080\">1.0323</span> Avg Test Acc: <span style=\"color: #008000; text-decoration-color: #008000\">62.1</span>\n",
              "</pre>\n"
            ],
            "text/plain": [
              "Avg Test loss: \u001b[34m1.0323\u001b[0m Avg Test Acc: \u001b[32m62.1\u001b[0m\n"
            ]
          },
          "metadata": {},
          "output_type": "display_data"
        },
        {
          "data": {
            "text/html": [
              "<pre style=\"white-space:pre;overflow-x:auto;line-height:normal;font-family:Menlo,'DejaVu Sans Mono',consolas,'Courier New',monospace\">Epoch <span style=\"color: #808000; text-decoration-color: #808000\">4/5</span> Training: </pre>\n"
            ],
            "text/plain": [
              "Epoch \u001b[33m4/5\u001b[0m Training: "
            ]
          },
          "metadata": {},
          "output_type": "display_data"
        },
        {
          "name": "stderr",
          "output_type": "stream",
          "text": [
            "100%|██████████| 1251/1251 [00:17<00:00, 71.38it/s]\n"
          ]
        },
        {
          "data": {
            "text/html": [
              "<pre style=\"white-space:pre;overflow-x:auto;line-height:normal;font-family:Menlo,'DejaVu Sans Mono',consolas,'Courier New',monospace\">Avg Training loss: <span style=\"color: #000080; text-decoration-color: #000080\">0.7373</span> Avg Training Acc: <span style=\"color: #008000; text-decoration-color: #008000\">73.0</span> Testing:</pre>\n"
            ],
            "text/plain": [
              "Avg Training loss: \u001b[34m0.7373\u001b[0m Avg Training Acc: \u001b[32m73.0\u001b[0m Testing:"
            ]
          },
          "metadata": {},
          "output_type": "display_data"
        },
        {
          "data": {
            "text/html": [
              "<pre style=\"white-space:pre;overflow-x:auto;line-height:normal;font-family:Menlo,'DejaVu Sans Mono',consolas,'Courier New',monospace\">Avg Test loss: <span style=\"color: #000080; text-decoration-color: #000080\">1.0059</span> Avg Test Acc: <span style=\"color: #008000; text-decoration-color: #008000\">63.5</span>\n",
              "</pre>\n"
            ],
            "text/plain": [
              "Avg Test loss: \u001b[34m1.0059\u001b[0m Avg Test Acc: \u001b[32m63.5\u001b[0m\n"
            ]
          },
          "metadata": {},
          "output_type": "display_data"
        },
        {
          "data": {
            "text/html": [
              "<pre style=\"white-space:pre;overflow-x:auto;line-height:normal;font-family:Menlo,'DejaVu Sans Mono',consolas,'Courier New',monospace\">Epoch <span style=\"color: #808000; text-decoration-color: #808000\">5/5</span> Training: </pre>\n"
            ],
            "text/plain": [
              "Epoch \u001b[33m5/5\u001b[0m Training: "
            ]
          },
          "metadata": {},
          "output_type": "display_data"
        },
        {
          "name": "stderr",
          "output_type": "stream",
          "text": [
            "100%|██████████| 1251/1251 [00:17<00:00, 70.66it/s]\n"
          ]
        },
        {
          "data": {
            "text/html": [
              "<pre style=\"white-space:pre;overflow-x:auto;line-height:normal;font-family:Menlo,'DejaVu Sans Mono',consolas,'Courier New',monospace\">Avg Training loss: <span style=\"color: #000080; text-decoration-color: #000080\">0.6045</span> Avg Training Acc: <span style=\"color: #008000; text-decoration-color: #008000\">78.0</span> Testing:</pre>\n"
            ],
            "text/plain": [
              "Avg Training loss: \u001b[34m0.6045\u001b[0m Avg Training Acc: \u001b[32m78.0\u001b[0m Testing:"
            ]
          },
          "metadata": {},
          "output_type": "display_data"
        },
        {
          "data": {
            "text/html": [
              "<pre style=\"white-space:pre;overflow-x:auto;line-height:normal;font-family:Menlo,'DejaVu Sans Mono',consolas,'Courier New',monospace\">Avg Test loss: <span style=\"color: #000080; text-decoration-color: #000080\">0.9897</span> Avg Test Acc: <span style=\"color: #008000; text-decoration-color: #008000\">64.7</span>\n",
              "</pre>\n"
            ],
            "text/plain": [
              "Avg Test loss: \u001b[34m0.9897\u001b[0m Avg Test Acc: \u001b[32m64.7\u001b[0m\n"
            ]
          },
          "metadata": {},
          "output_type": "display_data"
        },
        {
          "data": {
            "image/png": "[encoded data removed]",
            "text/plain": [
              "<Figure size 640x480 with 1 Axes>"
            ]
          },
          "metadata": {},
          "output_type": "display_data"
        },
        {
          "data": {
            "image/png": "[encoded data removed]",
            "text/plain": [
              "<Figure size 640x480 with 1 Axes>"
            ]
          },
          "metadata": {},
          "output_type": "display_data"
        }
      ],
      "source": [
        "dataset = []\n",
        "W = np.loadtxt(flowmat_fname)\n",
        "\n",
        "input_dim, output_dim = W.shape\n",
        "Wtorch = torch.tensor(W,dtype=torch.float32)\n",
        "print(\"Generating dataset:\")\n",
        "for i in tqdm.tqdm(range(dataset_size)):\n",
        "    x = 100*torch.rand(size=(input_dim,), dtype=torch.float32)\n",
        "    a = np.argsort(x @ Wtorch)\n",
        "    t = a[0]\n",
        "    dataset.append((x, t))\n",
        "model = MLPnet(input_dim,*network_layers,output_dim)\n",
        "trainer = SupervisedLearningPretrainer(dataset, model,use_gpu=True)\n",
        "\n",
        "stats = trainer.train_epochs(num_epochs)\n",
        "\n",
        "saveModel(model, out_model_fname)\n",
        "plt.figure()\n",
        "plt.title(\"Loss\")\n",
        "plt.plot(stats[\"training_loss_series\"], 'r-')\n",
        "plt.plot(stats[\"test_loss_series\"], 'b-')\n",
        "plt.figure()\n",
        "plt.title(\"Accuracy\")\n",
        "plt.plot(stats[\"training_acc_series\"], 'r-')\n",
        "plt.plot(stats[\"test_acc_series\"], 'b-')\n",
        "plt.show()"
      ]
    },
    {
      "cell_type": "code",
      "execution_count": 10,
      "metadata": {},
      "outputs": [
        {
          "data": {
            "text/plain": [
              "72"
            ]
          },
          "execution_count": 10,
          "metadata": {},
          "output_type": "execute_result"
        }
      ],
      "source": [
        "output_dim"
      ]
    },
    {
      "cell_type": "code",
      "execution_count": 11,
      "metadata": {},
      "outputs": [
        {
          "data": {
            "text/plain": [
              "256"
            ]
          },
          "execution_count": 11,
          "metadata": {},
          "output_type": "execute_result"
        }
      ],
      "source": [
        "input_dim"
      ]
    },
    {
      "cell_type": "code",
      "execution_count": null,
      "metadata": {},
      "outputs": [],
      "source": []
    }
  ],
  "metadata": {
    "accelerator": "GPU",
    "colab": {
      "authorship_tag": "ABX9TyN0ZHMMCHFtDnTSQ+pyy+HW",
      "gpuType": "T4",
      "include_colab_link": true,
      "provenance": []
    },
    "kernelspec": {
      "display_name": "Python 3",
      "name": "python3"
    },
    "language_info": {
      "codemirror_mode": {
        "name": "ipython",
        "version": 3
      },
      "file_extension": ".py",
      "mimetype": "text/x-python",
      "name": "python",
      "nbconvert_exporter": "python",
      "pygments_lexer": "ipython3",
      "version": "3.8.13"
    }
  },
  "nbformat": 4,
  "nbformat_minor": 0
}
