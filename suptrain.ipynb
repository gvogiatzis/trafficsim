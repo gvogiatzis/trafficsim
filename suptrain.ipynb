{
  "nbformat": 4,
  "nbformat_minor": 0,
  "metadata": {
    "colab": {
      "provenance": [],
      "gpuType": "T4",
      "authorship_tag": "ABX9TyN0ZHMMCHFtDnTSQ+pyy+HW",
      "include_colab_link": true
    },
    "kernelspec": {
      "name": "python3",
      "display_name": "Python 3"
    },
    "language_info": {
      "name": "python"
    },
    "accelerator": "GPU"
  },
  "cells": [
    {
      "cell_type": "markdown",
      "metadata": {
        "id": "view-in-github",
        "colab_type": "text"
      },
      "source": [
        "<a href=\"https://colab.research.google.com/github/gvogiatzis/trafficsim/blob/main/suptrain.ipynb\" target=\"_parent\"><img src=\"https://colab.research.google.com/assets/colab-badge.svg\" alt=\"Open In Colab\"/></a>"
      ]
    },
    {
      "cell_type": "code",
      "source": [
        "!git clone https://github.com/gvogiatzis/trafficsim.git"
      ],
      "metadata": {
        "id": "fPUBqSGoe9as"
      },
      "execution_count": null,
      "outputs": []
    },
    {
      "cell_type": "code",
      "source": [
        "cd trafficsim"
      ],
      "metadata": {
        "colab": {
          "base_uri": "https://localhost:8080/"
        },
        "id": "-bPB5Ej3FN4P",
        "outputId": "c2d1b87b-1eff-462b-cf66-3bba61f25e24"
      },
      "execution_count": 1,
      "outputs": [
        {
          "output_type": "stream",
          "name": "stdout",
          "text": [
            "/content/trafficsim\n"
          ]
        }
      ]
    },
    {
      "cell_type": "code",
      "source": [
        "!wget \"https://7d9c-80-195-93-221.ngrok-free.app/sumo_data/flowmat.txt\""
      ],
      "metadata": {
        "id": "s5fjJMaT_Ozm"
      },
      "execution_count": null,
      "outputs": []
    },
    {
      "cell_type": "code",
      "source": [
        "from rl import SupervisedLearningPretrainer\n",
        "\n",
        "import matplotlib.pyplot as plt\n",
        "import torch\n",
        "import tqdm\n",
        "import numpy as np\n",
        "\n",
        "from rl.models import MLPnet, loadModel, saveModel, loadModel_from_dict\n",
        "import matplotlib.pyplot as plt\n",
        "\n",
        "num_epochs = 50\n",
        "network_layers = \"1024x1024\"\n",
        "dataset_size = 1000000\n",
        "network_layers = [int(s) for s in network_layers.split(\"x\") if s.isnumeric()]\n",
        "out_model_fname = \"sup_model.pt\"\n",
        "flowmat_fname = \"flowmat.txt\""
      ],
      "metadata": {
        "id": "grrbTw39_hTp"
      },
      "execution_count": 2,
      "outputs": []
    },
    {
      "cell_type": "code",
      "source": [
        "dataset = []\n",
        "W = np.loadtxt(flowmat_fname)\n",
        "\n",
        "output_dim, input_dim = W.shape\n",
        "Wtorch = torch.tensor(W,dtype=torch.float32)\n",
        "print(\"Generating dataset:\")\n",
        "for i in tqdm.tqdm(range(dataset_size)):\n",
        "    x = 50*torch.randn(size=(input_dim,), dtype=torch.float32)\n",
        "    a = np.argsort(Wtorch @ x)\n",
        "    t = a[0]\n",
        "    dataset.append((x, t))\n",
        "model = MLPnet(input_dim,*network_layers,output_dim)\n",
        "trainer = SupervisedLearningPretrainer(dataset, model,use_gpu=True)\n",
        "\n",
        "stats = trainer.train_epochs(num_epochs)\n",
        "\n",
        "saveModel(model, out_model_fname)\n",
        "plt.figure()\n",
        "plt.title(\"Loss\")\n",
        "plt.plot(stats[\"training_loss_series\"], 'r-')\n",
        "plt.plot(stats[\"test_loss_series\"], 'b-')\n",
        "plt.figure()\n",
        "plt.title(\"Accuracy\")\n",
        "plt.plot(stats[\"training_acc_series\"], 'r-')\n",
        "plt.plot(stats[\"test_acc_series\"], 'b-')\n",
        "plt.show()"
      ],
      "metadata": {
        "colab": {
          "base_uri": "https://localhost:8080/",
          "height": 1000
        },
        "id": "AmNH_OikAY3k",
        "outputId": "38326cf0-4d9e-4ba0-ab13-3ae1b898189a"
      },
      "execution_count": 3,
      "outputs": [
        {
          "output_type": "stream",
          "name": "stdout",
          "text": [
            "Generating dataset:\n"
          ]
        },
        {
          "output_type": "stream",
          "name": "stderr",
          "text": [
            "100%|██████████| 1000000/1000000 [02:03<00:00, 8093.24it/s]\n"
          ]
        },
        {
          "output_type": "display_data",
          "data": {
            "text/plain": [
              "Epoch \u001b[33m1/50\u001b[0m Training: "
            ],
            "text/html": [
              "<pre style=\"white-space:pre;overflow-x:auto;line-height:normal;font-family:Menlo,'DejaVu Sans Mono',consolas,'Courier New',monospace\">Epoch <span style=\"color: #808000; text-decoration-color: #808000\">1/50</span> Training: </pre>\n"
            ]
          },
          "metadata": {}
        },
        {
          "output_type": "stream",
          "name": "stderr",
          "text": [
            "100%|██████████| 12501/12501 [00:38<00:00, 323.88it/s]\n"
          ]
        },
        {
          "output_type": "display_data",
          "data": {
            "text/plain": [
              "Avg Training loss: \u001b[34m0.9773\u001b[0m Avg Training Acc: \u001b[32m63.3\u001b[0m Testing:"
            ],
            "text/html": [
              "<pre style=\"white-space:pre;overflow-x:auto;line-height:normal;font-family:Menlo,'DejaVu Sans Mono',consolas,'Courier New',monospace\">Avg Training loss: <span style=\"color: #000080; text-decoration-color: #000080\">0.9773</span> Avg Training Acc: <span style=\"color: #008000; text-decoration-color: #008000\">63.3</span> Testing:</pre>\n"
            ]
          },
          "metadata": {}
        },
        {
          "output_type": "display_data",
          "data": {
            "text/plain": [
              "Avg Test loss: \u001b[34m0.9197\u001b[0m Avg Test Acc: \u001b[32m66.2\u001b[0m\n"
            ],
            "text/html": [
              "<pre style=\"white-space:pre;overflow-x:auto;line-height:normal;font-family:Menlo,'DejaVu Sans Mono',consolas,'Courier New',monospace\">Avg Test loss: <span style=\"color: #000080; text-decoration-color: #000080\">0.9197</span> Avg Test Acc: <span style=\"color: #008000; text-decoration-color: #008000\">66.2</span>\n",
              "</pre>\n"
            ]
          },
          "metadata": {}
        },
        {
          "output_type": "display_data",
          "data": {
            "text/plain": [
              "Epoch \u001b[33m2/50\u001b[0m Training: "
            ],
            "text/html": [
              "<pre style=\"white-space:pre;overflow-x:auto;line-height:normal;font-family:Menlo,'DejaVu Sans Mono',consolas,'Courier New',monospace\">Epoch <span style=\"color: #808000; text-decoration-color: #808000\">2/50</span> Training: </pre>\n"
            ]
          },
          "metadata": {}
        },
        {
          "output_type": "stream",
          "name": "stderr",
          "text": [
            "100%|██████████| 12501/12501 [00:37<00:00, 332.79it/s]\n"
          ]
        },
        {
          "output_type": "display_data",
          "data": {
            "text/plain": [
              "Avg Training loss: \u001b[34m0.6221\u001b[0m Avg Training Acc: \u001b[32m72.9\u001b[0m Testing:"
            ],
            "text/html": [
              "<pre style=\"white-space:pre;overflow-x:auto;line-height:normal;font-family:Menlo,'DejaVu Sans Mono',consolas,'Courier New',monospace\">Avg Training loss: <span style=\"color: #000080; text-decoration-color: #000080\">0.6221</span> Avg Training Acc: <span style=\"color: #008000; text-decoration-color: #008000\">72.9</span> Testing:</pre>\n"
            ]
          },
          "metadata": {}
        },
        {
          "output_type": "display_data",
          "data": {
            "text/plain": [
              "Avg Test loss: \u001b[34m0.6534\u001b[0m Avg Test Acc: \u001b[32m72.2\u001b[0m\n"
            ],
            "text/html": [
              "<pre style=\"white-space:pre;overflow-x:auto;line-height:normal;font-family:Menlo,'DejaVu Sans Mono',consolas,'Courier New',monospace\">Avg Test loss: <span style=\"color: #000080; text-decoration-color: #000080\">0.6534</span> Avg Test Acc: <span style=\"color: #008000; text-decoration-color: #008000\">72.2</span>\n",
              "</pre>\n"
            ]
          },
          "metadata": {}
        },
        {
          "output_type": "display_data",
          "data": {
            "text/plain": [
              "Epoch \u001b[33m3/50\u001b[0m Training: "
            ],
            "text/html": [
              "<pre style=\"white-space:pre;overflow-x:auto;line-height:normal;font-family:Menlo,'DejaVu Sans Mono',consolas,'Courier New',monospace\">Epoch <span style=\"color: #808000; text-decoration-color: #808000\">3/50</span> Training: </pre>\n"
            ]
          },
          "metadata": {}
        },
        {
          "output_type": "stream",
          "name": "stderr",
          "text": [
            "100%|██████████| 12501/12501 [00:37<00:00, 336.02it/s]\n"
          ]
        },
        {
          "output_type": "display_data",
          "data": {
            "text/plain": [
              "Avg Training loss: \u001b[34m0.5436\u001b[0m Avg Training Acc: \u001b[32m75.8\u001b[0m Testing:"
            ],
            "text/html": [
              "<pre style=\"white-space:pre;overflow-x:auto;line-height:normal;font-family:Menlo,'DejaVu Sans Mono',consolas,'Courier New',monospace\">Avg Training loss: <span style=\"color: #000080; text-decoration-color: #000080\">0.5436</span> Avg Training Acc: <span style=\"color: #008000; text-decoration-color: #008000\">75.8</span> Testing:</pre>\n"
            ]
          },
          "metadata": {}
        },
        {
          "output_type": "display_data",
          "data": {
            "text/plain": [
              "Avg Test loss: \u001b[34m0.6520\u001b[0m Avg Test Acc: \u001b[32m72.9\u001b[0m\n"
            ],
            "text/html": [
              "<pre style=\"white-space:pre;overflow-x:auto;line-height:normal;font-family:Menlo,'DejaVu Sans Mono',consolas,'Courier New',monospace\">Avg Test loss: <span style=\"color: #000080; text-decoration-color: #000080\">0.6520</span> Avg Test Acc: <span style=\"color: #008000; text-decoration-color: #008000\">72.9</span>\n",
              "</pre>\n"
            ]
          },
          "metadata": {}
        },
        {
          "output_type": "display_data",
          "data": {
            "text/plain": [
              "Epoch \u001b[33m4/50\u001b[0m Training: "
            ],
            "text/html": [
              "<pre style=\"white-space:pre;overflow-x:auto;line-height:normal;font-family:Menlo,'DejaVu Sans Mono',consolas,'Courier New',monospace\">Epoch <span style=\"color: #808000; text-decoration-color: #808000\">4/50</span> Training: </pre>\n"
            ]
          },
          "metadata": {}
        },
        {
          "output_type": "stream",
          "name": "stderr",
          "text": [
            "100%|██████████| 12501/12501 [00:38<00:00, 324.95it/s]\n"
          ]
        },
        {
          "output_type": "display_data",
          "data": {
            "text/plain": [
              "Avg Training loss: \u001b[34m0.5013\u001b[0m Avg Training Acc: \u001b[32m77.5\u001b[0m Testing:"
            ],
            "text/html": [
              "<pre style=\"white-space:pre;overflow-x:auto;line-height:normal;font-family:Menlo,'DejaVu Sans Mono',consolas,'Courier New',monospace\">Avg Training loss: <span style=\"color: #000080; text-decoration-color: #000080\">0.5013</span> Avg Training Acc: <span style=\"color: #008000; text-decoration-color: #008000\">77.5</span> Testing:</pre>\n"
            ]
          },
          "metadata": {}
        },
        {
          "output_type": "display_data",
          "data": {
            "text/plain": [
              "Avg Test loss: \u001b[34m0.6852\u001b[0m Avg Test Acc: \u001b[32m72.8\u001b[0m\n"
            ],
            "text/html": [
              "<pre style=\"white-space:pre;overflow-x:auto;line-height:normal;font-family:Menlo,'DejaVu Sans Mono',consolas,'Courier New',monospace\">Avg Test loss: <span style=\"color: #000080; text-decoration-color: #000080\">0.6852</span> Avg Test Acc: <span style=\"color: #008000; text-decoration-color: #008000\">72.8</span>\n",
              "</pre>\n"
            ]
          },
          "metadata": {}
        },
        {
          "output_type": "display_data",
          "data": {
            "text/plain": [
              "Epoch \u001b[33m5/50\u001b[0m Training: "
            ],
            "text/html": [
              "<pre style=\"white-space:pre;overflow-x:auto;line-height:normal;font-family:Menlo,'DejaVu Sans Mono',consolas,'Courier New',monospace\">Epoch <span style=\"color: #808000; text-decoration-color: #808000\">5/50</span> Training: </pre>\n"
            ]
          },
          "metadata": {}
        },
        {
          "output_type": "stream",
          "name": "stderr",
          "text": [
            "100%|██████████| 12501/12501 [00:37<00:00, 333.60it/s]\n"
          ]
        },
        {
          "output_type": "display_data",
          "data": {
            "text/plain": [
              "Avg Training loss: \u001b[34m0.4730\u001b[0m Avg Training Acc: \u001b[32m78.7\u001b[0m Testing:"
            ],
            "text/html": [
              "<pre style=\"white-space:pre;overflow-x:auto;line-height:normal;font-family:Menlo,'DejaVu Sans Mono',consolas,'Courier New',monospace\">Avg Training loss: <span style=\"color: #000080; text-decoration-color: #000080\">0.4730</span> Avg Training Acc: <span style=\"color: #008000; text-decoration-color: #008000\">78.7</span> Testing:</pre>\n"
            ]
          },
          "metadata": {}
        },
        {
          "output_type": "display_data",
          "data": {
            "text/plain": [
              "Avg Test loss: \u001b[34m0.7135\u001b[0m Avg Test Acc: \u001b[32m72.8\u001b[0m\n"
            ],
            "text/html": [
              "<pre style=\"white-space:pre;overflow-x:auto;line-height:normal;font-family:Menlo,'DejaVu Sans Mono',consolas,'Courier New',monospace\">Avg Test loss: <span style=\"color: #000080; text-decoration-color: #000080\">0.7135</span> Avg Test Acc: <span style=\"color: #008000; text-decoration-color: #008000\">72.8</span>\n",
              "</pre>\n"
            ]
          },
          "metadata": {}
        },
        {
          "output_type": "display_data",
          "data": {
            "text/plain": [
              "Epoch \u001b[33m6/50\u001b[0m Training: "
            ],
            "text/html": [
              "<pre style=\"white-space:pre;overflow-x:auto;line-height:normal;font-family:Menlo,'DejaVu Sans Mono',consolas,'Courier New',monospace\">Epoch <span style=\"color: #808000; text-decoration-color: #808000\">6/50</span> Training: </pre>\n"
            ]
          },
          "metadata": {}
        },
        {
          "output_type": "stream",
          "name": "stderr",
          "text": [
            "100%|██████████| 12501/12501 [00:38<00:00, 322.21it/s]\n"
          ]
        },
        {
          "output_type": "display_data",
          "data": {
            "text/plain": [
              "Avg Training loss: \u001b[34m0.4518\u001b[0m Avg Training Acc: \u001b[32m79.6\u001b[0m Testing:"
            ],
            "text/html": [
              "<pre style=\"white-space:pre;overflow-x:auto;line-height:normal;font-family:Menlo,'DejaVu Sans Mono',consolas,'Courier New',monospace\">Avg Training loss: <span style=\"color: #000080; text-decoration-color: #000080\">0.4518</span> Avg Training Acc: <span style=\"color: #008000; text-decoration-color: #008000\">79.6</span> Testing:</pre>\n"
            ]
          },
          "metadata": {}
        },
        {
          "output_type": "display_data",
          "data": {
            "text/plain": [
              "Avg Test loss: \u001b[34m0.7568\u001b[0m Avg Test Acc: \u001b[32m72.5\u001b[0m\n"
            ],
            "text/html": [
              "<pre style=\"white-space:pre;overflow-x:auto;line-height:normal;font-family:Menlo,'DejaVu Sans Mono',consolas,'Courier New',monospace\">Avg Test loss: <span style=\"color: #000080; text-decoration-color: #000080\">0.7568</span> Avg Test Acc: <span style=\"color: #008000; text-decoration-color: #008000\">72.5</span>\n",
              "</pre>\n"
            ]
          },
          "metadata": {}
        },
        {
          "output_type": "display_data",
          "data": {
            "text/plain": [
              "Epoch \u001b[33m7/50\u001b[0m Training: "
            ],
            "text/html": [
              "<pre style=\"white-space:pre;overflow-x:auto;line-height:normal;font-family:Menlo,'DejaVu Sans Mono',consolas,'Courier New',monospace\">Epoch <span style=\"color: #808000; text-decoration-color: #808000\">7/50</span> Training: </pre>\n"
            ]
          },
          "metadata": {}
        },
        {
          "output_type": "stream",
          "name": "stderr",
          "text": [
            "100%|██████████| 12501/12501 [00:38<00:00, 321.05it/s]\n"
          ]
        },
        {
          "output_type": "display_data",
          "data": {
            "text/plain": [
              "Avg Training loss: \u001b[34m0.4327\u001b[0m Avg Training Acc: \u001b[32m80.6\u001b[0m Testing:"
            ],
            "text/html": [
              "<pre style=\"white-space:pre;overflow-x:auto;line-height:normal;font-family:Menlo,'DejaVu Sans Mono',consolas,'Courier New',monospace\">Avg Training loss: <span style=\"color: #000080; text-decoration-color: #000080\">0.4327</span> Avg Training Acc: <span style=\"color: #008000; text-decoration-color: #008000\">80.6</span> Testing:</pre>\n"
            ]
          },
          "metadata": {}
        },
        {
          "output_type": "display_data",
          "data": {
            "text/plain": [
              "Avg Test loss: \u001b[34m0.7913\u001b[0m Avg Test Acc: \u001b[32m72.3\u001b[0m\n"
            ],
            "text/html": [
              "<pre style=\"white-space:pre;overflow-x:auto;line-height:normal;font-family:Menlo,'DejaVu Sans Mono',consolas,'Courier New',monospace\">Avg Test loss: <span style=\"color: #000080; text-decoration-color: #000080\">0.7913</span> Avg Test Acc: <span style=\"color: #008000; text-decoration-color: #008000\">72.3</span>\n",
              "</pre>\n"
            ]
          },
          "metadata": {}
        },
        {
          "output_type": "display_data",
          "data": {
            "text/plain": [
              "Epoch \u001b[33m8/50\u001b[0m Training: "
            ],
            "text/html": [
              "<pre style=\"white-space:pre;overflow-x:auto;line-height:normal;font-family:Menlo,'DejaVu Sans Mono',consolas,'Courier New',monospace\">Epoch <span style=\"color: #808000; text-decoration-color: #808000\">8/50</span> Training: </pre>\n"
            ]
          },
          "metadata": {}
        },
        {
          "output_type": "stream",
          "name": "stderr",
          "text": [
            "100%|██████████| 12501/12501 [00:39<00:00, 316.33it/s]\n"
          ]
        },
        {
          "output_type": "display_data",
          "data": {
            "text/plain": [
              "Avg Training loss: \u001b[34m0.4170\u001b[0m Avg Training Acc: \u001b[32m81.5\u001b[0m Testing:"
            ],
            "text/html": [
              "<pre style=\"white-space:pre;overflow-x:auto;line-height:normal;font-family:Menlo,'DejaVu Sans Mono',consolas,'Courier New',monospace\">Avg Training loss: <span style=\"color: #000080; text-decoration-color: #000080\">0.4170</span> Avg Training Acc: <span style=\"color: #008000; text-decoration-color: #008000\">81.5</span> Testing:</pre>\n"
            ]
          },
          "metadata": {}
        },
        {
          "output_type": "display_data",
          "data": {
            "text/plain": [
              "Avg Test loss: \u001b[34m0.8532\u001b[0m Avg Test Acc: \u001b[32m72.0\u001b[0m\n"
            ],
            "text/html": [
              "<pre style=\"white-space:pre;overflow-x:auto;line-height:normal;font-family:Menlo,'DejaVu Sans Mono',consolas,'Courier New',monospace\">Avg Test loss: <span style=\"color: #000080; text-decoration-color: #000080\">0.8532</span> Avg Test Acc: <span style=\"color: #008000; text-decoration-color: #008000\">72.0</span>\n",
              "</pre>\n"
            ]
          },
          "metadata": {}
        },
        {
          "output_type": "display_data",
          "data": {
            "text/plain": [
              "Epoch \u001b[33m9/50\u001b[0m Training: "
            ],
            "text/html": [
              "<pre style=\"white-space:pre;overflow-x:auto;line-height:normal;font-family:Menlo,'DejaVu Sans Mono',consolas,'Courier New',monospace\">Epoch <span style=\"color: #808000; text-decoration-color: #808000\">9/50</span> Training: </pre>\n"
            ]
          },
          "metadata": {}
        },
        {
          "output_type": "stream",
          "name": "stderr",
          "text": [
            "100%|██████████| 12501/12501 [00:38<00:00, 322.07it/s]\n"
          ]
        },
        {
          "output_type": "display_data",
          "data": {
            "text/plain": [
              "Avg Training loss: \u001b[34m0.4020\u001b[0m Avg Training Acc: \u001b[32m82.4\u001b[0m Testing:"
            ],
            "text/html": [
              "<pre style=\"white-space:pre;overflow-x:auto;line-height:normal;font-family:Menlo,'DejaVu Sans Mono',consolas,'Courier New',monospace\">Avg Training loss: <span style=\"color: #000080; text-decoration-color: #000080\">0.4020</span> Avg Training Acc: <span style=\"color: #008000; text-decoration-color: #008000\">82.4</span> Testing:</pre>\n"
            ]
          },
          "metadata": {}
        },
        {
          "output_type": "display_data",
          "data": {
            "text/plain": [
              "Avg Test loss: \u001b[34m0.8885\u001b[0m Avg Test Acc: \u001b[32m71.6\u001b[0m\n"
            ],
            "text/html": [
              "<pre style=\"white-space:pre;overflow-x:auto;line-height:normal;font-family:Menlo,'DejaVu Sans Mono',consolas,'Courier New',monospace\">Avg Test loss: <span style=\"color: #000080; text-decoration-color: #000080\">0.8885</span> Avg Test Acc: <span style=\"color: #008000; text-decoration-color: #008000\">71.6</span>\n",
              "</pre>\n"
            ]
          },
          "metadata": {}
        },
        {
          "output_type": "display_data",
          "data": {
            "text/plain": [
              "Epoch \u001b[33m10/50\u001b[0m Training: "
            ],
            "text/html": [
              "<pre style=\"white-space:pre;overflow-x:auto;line-height:normal;font-family:Menlo,'DejaVu Sans Mono',consolas,'Courier New',monospace\">Epoch <span style=\"color: #808000; text-decoration-color: #808000\">10/50</span> Training: </pre>\n"
            ]
          },
          "metadata": {}
        },
        {
          "output_type": "stream",
          "name": "stderr",
          "text": [
            "100%|██████████| 12501/12501 [00:39<00:00, 314.60it/s]\n"
          ]
        },
        {
          "output_type": "display_data",
          "data": {
            "text/plain": [
              "Avg Training loss: \u001b[34m0.3880\u001b[0m Avg Training Acc: \u001b[32m83.3\u001b[0m Testing:"
            ],
            "text/html": [
              "<pre style=\"white-space:pre;overflow-x:auto;line-height:normal;font-family:Menlo,'DejaVu Sans Mono',consolas,'Courier New',monospace\">Avg Training loss: <span style=\"color: #000080; text-decoration-color: #000080\">0.3880</span> Avg Training Acc: <span style=\"color: #008000; text-decoration-color: #008000\">83.3</span> Testing:</pre>\n"
            ]
          },
          "metadata": {}
        },
        {
          "output_type": "display_data",
          "data": {
            "text/plain": [
              "Avg Test loss: \u001b[34m0.9353\u001b[0m Avg Test Acc: \u001b[32m71.6\u001b[0m\n"
            ],
            "text/html": [
              "<pre style=\"white-space:pre;overflow-x:auto;line-height:normal;font-family:Menlo,'DejaVu Sans Mono',consolas,'Courier New',monospace\">Avg Test loss: <span style=\"color: #000080; text-decoration-color: #000080\">0.9353</span> Avg Test Acc: <span style=\"color: #008000; text-decoration-color: #008000\">71.6</span>\n",
              "</pre>\n"
            ]
          },
          "metadata": {}
        },
        {
          "output_type": "display_data",
          "data": {
            "text/plain": [
              "Epoch \u001b[33m11/50\u001b[0m Training: "
            ],
            "text/html": [
              "<pre style=\"white-space:pre;overflow-x:auto;line-height:normal;font-family:Menlo,'DejaVu Sans Mono',consolas,'Courier New',monospace\">Epoch <span style=\"color: #808000; text-decoration-color: #808000\">11/50</span> Training: </pre>\n"
            ]
          },
          "metadata": {}
        },
        {
          "output_type": "stream",
          "name": "stderr",
          "text": [
            "100%|██████████| 12501/12501 [00:39<00:00, 319.34it/s]\n"
          ]
        },
        {
          "output_type": "display_data",
          "data": {
            "text/plain": [
              "Avg Training loss: \u001b[34m0.3723\u001b[0m Avg Training Acc: \u001b[32m84.1\u001b[0m Testing:"
            ],
            "text/html": [
              "<pre style=\"white-space:pre;overflow-x:auto;line-height:normal;font-family:Menlo,'DejaVu Sans Mono',consolas,'Courier New',monospace\">Avg Training loss: <span style=\"color: #000080; text-decoration-color: #000080\">0.3723</span> Avg Training Acc: <span style=\"color: #008000; text-decoration-color: #008000\">84.1</span> Testing:</pre>\n"
            ]
          },
          "metadata": {}
        },
        {
          "output_type": "display_data",
          "data": {
            "text/plain": [
              "Avg Test loss: \u001b[34m0.9944\u001b[0m Avg Test Acc: \u001b[32m71.6\u001b[0m\n"
            ],
            "text/html": [
              "<pre style=\"white-space:pre;overflow-x:auto;line-height:normal;font-family:Menlo,'DejaVu Sans Mono',consolas,'Courier New',monospace\">Avg Test loss: <span style=\"color: #000080; text-decoration-color: #000080\">0.9944</span> Avg Test Acc: <span style=\"color: #008000; text-decoration-color: #008000\">71.6</span>\n",
              "</pre>\n"
            ]
          },
          "metadata": {}
        },
        {
          "output_type": "display_data",
          "data": {
            "text/plain": [
              "Epoch \u001b[33m12/50\u001b[0m Training: "
            ],
            "text/html": [
              "<pre style=\"white-space:pre;overflow-x:auto;line-height:normal;font-family:Menlo,'DejaVu Sans Mono',consolas,'Courier New',monospace\">Epoch <span style=\"color: #808000; text-decoration-color: #808000\">12/50</span> Training: </pre>\n"
            ]
          },
          "metadata": {}
        },
        {
          "output_type": "stream",
          "name": "stderr",
          "text": [
            "100%|██████████| 12501/12501 [00:38<00:00, 320.70it/s]\n"
          ]
        },
        {
          "output_type": "display_data",
          "data": {
            "text/plain": [
              "Avg Training loss: \u001b[34m0.3602\u001b[0m Avg Training Acc: \u001b[32m84.9\u001b[0m Testing:"
            ],
            "text/html": [
              "<pre style=\"white-space:pre;overflow-x:auto;line-height:normal;font-family:Menlo,'DejaVu Sans Mono',consolas,'Courier New',monospace\">Avg Training loss: <span style=\"color: #000080; text-decoration-color: #000080\">0.3602</span> Avg Training Acc: <span style=\"color: #008000; text-decoration-color: #008000\">84.9</span> Testing:</pre>\n"
            ]
          },
          "metadata": {}
        },
        {
          "output_type": "display_data",
          "data": {
            "text/plain": [
              "Avg Test loss: \u001b[34m1.0581\u001b[0m Avg Test Acc: \u001b[32m70.8\u001b[0m\n"
            ],
            "text/html": [
              "<pre style=\"white-space:pre;overflow-x:auto;line-height:normal;font-family:Menlo,'DejaVu Sans Mono',consolas,'Courier New',monospace\">Avg Test loss: <span style=\"color: #000080; text-decoration-color: #000080\">1.0581</span> Avg Test Acc: <span style=\"color: #008000; text-decoration-color: #008000\">70.8</span>\n",
              "</pre>\n"
            ]
          },
          "metadata": {}
        },
        {
          "output_type": "display_data",
          "data": {
            "text/plain": [
              "Epoch \u001b[33m13/50\u001b[0m Training: "
            ],
            "text/html": [
              "<pre style=\"white-space:pre;overflow-x:auto;line-height:normal;font-family:Menlo,'DejaVu Sans Mono',consolas,'Courier New',monospace\">Epoch <span style=\"color: #808000; text-decoration-color: #808000\">13/50</span> Training: </pre>\n"
            ]
          },
          "metadata": {}
        },
        {
          "output_type": "stream",
          "name": "stderr",
          "text": [
            "100%|██████████| 12501/12501 [00:38<00:00, 323.22it/s]\n"
          ]
        },
        {
          "output_type": "display_data",
          "data": {
            "text/plain": [
              "Avg Training loss: \u001b[34m0.3475\u001b[0m Avg Training Acc: \u001b[32m85.7\u001b[0m Testing:"
            ],
            "text/html": [
              "<pre style=\"white-space:pre;overflow-x:auto;line-height:normal;font-family:Menlo,'DejaVu Sans Mono',consolas,'Courier New',monospace\">Avg Training loss: <span style=\"color: #000080; text-decoration-color: #000080\">0.3475</span> Avg Training Acc: <span style=\"color: #008000; text-decoration-color: #008000\">85.7</span> Testing:</pre>\n"
            ]
          },
          "metadata": {}
        },
        {
          "output_type": "display_data",
          "data": {
            "text/plain": [
              "Avg Test loss: \u001b[34m1.2060\u001b[0m Avg Test Acc: \u001b[32m70.6\u001b[0m\n"
            ],
            "text/html": [
              "<pre style=\"white-space:pre;overflow-x:auto;line-height:normal;font-family:Menlo,'DejaVu Sans Mono',consolas,'Courier New',monospace\">Avg Test loss: <span style=\"color: #000080; text-decoration-color: #000080\">1.2060</span> Avg Test Acc: <span style=\"color: #008000; text-decoration-color: #008000\">70.6</span>\n",
              "</pre>\n"
            ]
          },
          "metadata": {}
        },
        {
          "output_type": "display_data",
          "data": {
            "text/plain": [
              "Epoch \u001b[33m14/50\u001b[0m Training: "
            ],
            "text/html": [
              "<pre style=\"white-space:pre;overflow-x:auto;line-height:normal;font-family:Menlo,'DejaVu Sans Mono',consolas,'Courier New',monospace\">Epoch <span style=\"color: #808000; text-decoration-color: #808000\">14/50</span> Training: </pre>\n"
            ]
          },
          "metadata": {}
        },
        {
          "output_type": "stream",
          "name": "stderr",
          "text": [
            "100%|██████████| 12501/12501 [00:39<00:00, 317.67it/s]\n"
          ]
        },
        {
          "output_type": "display_data",
          "data": {
            "text/plain": [
              "Avg Training loss: \u001b[34m0.3355\u001b[0m Avg Training Acc: \u001b[32m86.4\u001b[0m Testing:"
            ],
            "text/html": [
              "<pre style=\"white-space:pre;overflow-x:auto;line-height:normal;font-family:Menlo,'DejaVu Sans Mono',consolas,'Courier New',monospace\">Avg Training loss: <span style=\"color: #000080; text-decoration-color: #000080\">0.3355</span> Avg Training Acc: <span style=\"color: #008000; text-decoration-color: #008000\">86.4</span> Testing:</pre>\n"
            ]
          },
          "metadata": {}
        },
        {
          "output_type": "display_data",
          "data": {
            "text/plain": [
              "Avg Test loss: \u001b[34m1.2193\u001b[0m Avg Test Acc: \u001b[32m71.2\u001b[0m\n"
            ],
            "text/html": [
              "<pre style=\"white-space:pre;overflow-x:auto;line-height:normal;font-family:Menlo,'DejaVu Sans Mono',consolas,'Courier New',monospace\">Avg Test loss: <span style=\"color: #000080; text-decoration-color: #000080\">1.2193</span> Avg Test Acc: <span style=\"color: #008000; text-decoration-color: #008000\">71.2</span>\n",
              "</pre>\n"
            ]
          },
          "metadata": {}
        },
        {
          "output_type": "display_data",
          "data": {
            "text/plain": [
              "Epoch \u001b[33m15/50\u001b[0m Training: "
            ],
            "text/html": [
              "<pre style=\"white-space:pre;overflow-x:auto;line-height:normal;font-family:Menlo,'DejaVu Sans Mono',consolas,'Courier New',monospace\">Epoch <span style=\"color: #808000; text-decoration-color: #808000\">15/50</span> Training: </pre>\n"
            ]
          },
          "metadata": {}
        },
        {
          "output_type": "stream",
          "name": "stderr",
          "text": [
            "100%|██████████| 12501/12501 [00:38<00:00, 324.04it/s]\n"
          ]
        },
        {
          "output_type": "display_data",
          "data": {
            "text/plain": [
              "Avg Training loss: \u001b[34m0.3243\u001b[0m Avg Training Acc: \u001b[32m87.1\u001b[0m Testing:"
            ],
            "text/html": [
              "<pre style=\"white-space:pre;overflow-x:auto;line-height:normal;font-family:Menlo,'DejaVu Sans Mono',consolas,'Courier New',monospace\">Avg Training loss: <span style=\"color: #000080; text-decoration-color: #000080\">0.3243</span> Avg Training Acc: <span style=\"color: #008000; text-decoration-color: #008000\">87.1</span> Testing:</pre>\n"
            ]
          },
          "metadata": {}
        },
        {
          "output_type": "display_data",
          "data": {
            "text/plain": [
              "Avg Test loss: \u001b[34m1.2538\u001b[0m Avg Test Acc: \u001b[32m71.0\u001b[0m\n"
            ],
            "text/html": [
              "<pre style=\"white-space:pre;overflow-x:auto;line-height:normal;font-family:Menlo,'DejaVu Sans Mono',consolas,'Courier New',monospace\">Avg Test loss: <span style=\"color: #000080; text-decoration-color: #000080\">1.2538</span> Avg Test Acc: <span style=\"color: #008000; text-decoration-color: #008000\">71.0</span>\n",
              "</pre>\n"
            ]
          },
          "metadata": {}
        },
        {
          "output_type": "display_data",
          "data": {
            "text/plain": [
              "Epoch \u001b[33m16/50\u001b[0m Training: "
            ],
            "text/html": [
              "<pre style=\"white-space:pre;overflow-x:auto;line-height:normal;font-family:Menlo,'DejaVu Sans Mono',consolas,'Courier New',monospace\">Epoch <span style=\"color: #808000; text-decoration-color: #808000\">16/50</span> Training: </pre>\n"
            ]
          },
          "metadata": {}
        },
        {
          "output_type": "stream",
          "name": "stderr",
          "text": [
            "100%|██████████| 12501/12501 [00:39<00:00, 320.21it/s]\n"
          ]
        },
        {
          "output_type": "display_data",
          "data": {
            "text/plain": [
              "Avg Training loss: \u001b[34m0.3146\u001b[0m Avg Training Acc: \u001b[32m87.7\u001b[0m Testing:"
            ],
            "text/html": [
              "<pre style=\"white-space:pre;overflow-x:auto;line-height:normal;font-family:Menlo,'DejaVu Sans Mono',consolas,'Courier New',monospace\">Avg Training loss: <span style=\"color: #000080; text-decoration-color: #000080\">0.3146</span> Avg Training Acc: <span style=\"color: #008000; text-decoration-color: #008000\">87.7</span> Testing:</pre>\n"
            ]
          },
          "metadata": {}
        },
        {
          "output_type": "display_data",
          "data": {
            "text/plain": [
              "Avg Test loss: \u001b[34m1.3115\u001b[0m Avg Test Acc: \u001b[32m71.1\u001b[0m\n"
            ],
            "text/html": [
              "<pre style=\"white-space:pre;overflow-x:auto;line-height:normal;font-family:Menlo,'DejaVu Sans Mono',consolas,'Courier New',monospace\">Avg Test loss: <span style=\"color: #000080; text-decoration-color: #000080\">1.3115</span> Avg Test Acc: <span style=\"color: #008000; text-decoration-color: #008000\">71.1</span>\n",
              "</pre>\n"
            ]
          },
          "metadata": {}
        },
        {
          "output_type": "display_data",
          "data": {
            "text/plain": [
              "Epoch \u001b[33m17/50\u001b[0m Training: "
            ],
            "text/html": [
              "<pre style=\"white-space:pre;overflow-x:auto;line-height:normal;font-family:Menlo,'DejaVu Sans Mono',consolas,'Courier New',monospace\">Epoch <span style=\"color: #808000; text-decoration-color: #808000\">17/50</span> Training: </pre>\n"
            ]
          },
          "metadata": {}
        },
        {
          "output_type": "stream",
          "name": "stderr",
          "text": [
            "100%|██████████| 12501/12501 [00:39<00:00, 318.29it/s]\n"
          ]
        },
        {
          "output_type": "display_data",
          "data": {
            "text/plain": [
              "Avg Training loss: \u001b[34m0.3051\u001b[0m Avg Training Acc: \u001b[32m88.3\u001b[0m Testing:"
            ],
            "text/html": [
              "<pre style=\"white-space:pre;overflow-x:auto;line-height:normal;font-family:Menlo,'DejaVu Sans Mono',consolas,'Courier New',monospace\">Avg Training loss: <span style=\"color: #000080; text-decoration-color: #000080\">0.3051</span> Avg Training Acc: <span style=\"color: #008000; text-decoration-color: #008000\">88.3</span> Testing:</pre>\n"
            ]
          },
          "metadata": {}
        },
        {
          "output_type": "display_data",
          "data": {
            "text/plain": [
              "Avg Test loss: \u001b[34m1.4132\u001b[0m Avg Test Acc: \u001b[32m70.7\u001b[0m\n"
            ],
            "text/html": [
              "<pre style=\"white-space:pre;overflow-x:auto;line-height:normal;font-family:Menlo,'DejaVu Sans Mono',consolas,'Courier New',monospace\">Avg Test loss: <span style=\"color: #000080; text-decoration-color: #000080\">1.4132</span> Avg Test Acc: <span style=\"color: #008000; text-decoration-color: #008000\">70.7</span>\n",
              "</pre>\n"
            ]
          },
          "metadata": {}
        },
        {
          "output_type": "display_data",
          "data": {
            "text/plain": [
              "Epoch \u001b[33m18/50\u001b[0m Training: "
            ],
            "text/html": [
              "<pre style=\"white-space:pre;overflow-x:auto;line-height:normal;font-family:Menlo,'DejaVu Sans Mono',consolas,'Courier New',monospace\">Epoch <span style=\"color: #808000; text-decoration-color: #808000\">18/50</span> Training: </pre>\n"
            ]
          },
          "metadata": {}
        },
        {
          "output_type": "stream",
          "name": "stderr",
          "text": [
            "100%|██████████| 12501/12501 [00:39<00:00, 318.86it/s]\n"
          ]
        },
        {
          "output_type": "display_data",
          "data": {
            "text/plain": [
              "Avg Training loss: \u001b[34m0.2964\u001b[0m Avg Training Acc: \u001b[32m88.8\u001b[0m Testing:"
            ],
            "text/html": [
              "<pre style=\"white-space:pre;overflow-x:auto;line-height:normal;font-family:Menlo,'DejaVu Sans Mono',consolas,'Courier New',monospace\">Avg Training loss: <span style=\"color: #000080; text-decoration-color: #000080\">0.2964</span> Avg Training Acc: <span style=\"color: #008000; text-decoration-color: #008000\">88.8</span> Testing:</pre>\n"
            ]
          },
          "metadata": {}
        },
        {
          "output_type": "display_data",
          "data": {
            "text/plain": [
              "Avg Test loss: \u001b[34m1.4515\u001b[0m Avg Test Acc: \u001b[32m70.6\u001b[0m\n"
            ],
            "text/html": [
              "<pre style=\"white-space:pre;overflow-x:auto;line-height:normal;font-family:Menlo,'DejaVu Sans Mono',consolas,'Courier New',monospace\">Avg Test loss: <span style=\"color: #000080; text-decoration-color: #000080\">1.4515</span> Avg Test Acc: <span style=\"color: #008000; text-decoration-color: #008000\">70.6</span>\n",
              "</pre>\n"
            ]
          },
          "metadata": {}
        },
        {
          "output_type": "display_data",
          "data": {
            "text/plain": [
              "Epoch \u001b[33m19/50\u001b[0m Training: "
            ],
            "text/html": [
              "<pre style=\"white-space:pre;overflow-x:auto;line-height:normal;font-family:Menlo,'DejaVu Sans Mono',consolas,'Courier New',monospace\">Epoch <span style=\"color: #808000; text-decoration-color: #808000\">19/50</span> Training: </pre>\n"
            ]
          },
          "metadata": {}
        },
        {
          "output_type": "stream",
          "name": "stderr",
          "text": [
            "100%|██████████| 12501/12501 [00:39<00:00, 319.62it/s]\n"
          ]
        },
        {
          "output_type": "display_data",
          "data": {
            "text/plain": [
              "Avg Training loss: \u001b[34m0.2894\u001b[0m Avg Training Acc: \u001b[32m89.3\u001b[0m Testing:"
            ],
            "text/html": [
              "<pre style=\"white-space:pre;overflow-x:auto;line-height:normal;font-family:Menlo,'DejaVu Sans Mono',consolas,'Courier New',monospace\">Avg Training loss: <span style=\"color: #000080; text-decoration-color: #000080\">0.2894</span> Avg Training Acc: <span style=\"color: #008000; text-decoration-color: #008000\">89.3</span> Testing:</pre>\n"
            ]
          },
          "metadata": {}
        },
        {
          "output_type": "display_data",
          "data": {
            "text/plain": [
              "Avg Test loss: \u001b[34m1.5441\u001b[0m Avg Test Acc: \u001b[32m71.0\u001b[0m\n"
            ],
            "text/html": [
              "<pre style=\"white-space:pre;overflow-x:auto;line-height:normal;font-family:Menlo,'DejaVu Sans Mono',consolas,'Courier New',monospace\">Avg Test loss: <span style=\"color: #000080; text-decoration-color: #000080\">1.5441</span> Avg Test Acc: <span style=\"color: #008000; text-decoration-color: #008000\">71.0</span>\n",
              "</pre>\n"
            ]
          },
          "metadata": {}
        },
        {
          "output_type": "display_data",
          "data": {
            "text/plain": [
              "Epoch \u001b[33m20/50\u001b[0m Training: "
            ],
            "text/html": [
              "<pre style=\"white-space:pre;overflow-x:auto;line-height:normal;font-family:Menlo,'DejaVu Sans Mono',consolas,'Courier New',monospace\">Epoch <span style=\"color: #808000; text-decoration-color: #808000\">20/50</span> Training: </pre>\n"
            ]
          },
          "metadata": {}
        },
        {
          "output_type": "stream",
          "name": "stderr",
          "text": [
            "100%|██████████| 12501/12501 [00:39<00:00, 319.51it/s]\n"
          ]
        },
        {
          "output_type": "display_data",
          "data": {
            "text/plain": [
              "Avg Training loss: \u001b[34m0.2820\u001b[0m Avg Training Acc: \u001b[32m89.7\u001b[0m Testing:"
            ],
            "text/html": [
              "<pre style=\"white-space:pre;overflow-x:auto;line-height:normal;font-family:Menlo,'DejaVu Sans Mono',consolas,'Courier New',monospace\">Avg Training loss: <span style=\"color: #000080; text-decoration-color: #000080\">0.2820</span> Avg Training Acc: <span style=\"color: #008000; text-decoration-color: #008000\">89.7</span> Testing:</pre>\n"
            ]
          },
          "metadata": {}
        },
        {
          "output_type": "display_data",
          "data": {
            "text/plain": [
              "Avg Test loss: \u001b[34m1.6832\u001b[0m Avg Test Acc: \u001b[32m70.8\u001b[0m\n"
            ],
            "text/html": [
              "<pre style=\"white-space:pre;overflow-x:auto;line-height:normal;font-family:Menlo,'DejaVu Sans Mono',consolas,'Courier New',monospace\">Avg Test loss: <span style=\"color: #000080; text-decoration-color: #000080\">1.6832</span> Avg Test Acc: <span style=\"color: #008000; text-decoration-color: #008000\">70.8</span>\n",
              "</pre>\n"
            ]
          },
          "metadata": {}
        },
        {
          "output_type": "display_data",
          "data": {
            "text/plain": [
              "Epoch \u001b[33m21/50\u001b[0m Training: "
            ],
            "text/html": [
              "<pre style=\"white-space:pre;overflow-x:auto;line-height:normal;font-family:Menlo,'DejaVu Sans Mono',consolas,'Courier New',monospace\">Epoch <span style=\"color: #808000; text-decoration-color: #808000\">21/50</span> Training: </pre>\n"
            ]
          },
          "metadata": {}
        },
        {
          "output_type": "stream",
          "name": "stderr",
          "text": [
            "100%|██████████| 12501/12501 [00:39<00:00, 314.80it/s]\n"
          ]
        },
        {
          "output_type": "display_data",
          "data": {
            "text/plain": [
              "Avg Training loss: \u001b[34m0.2764\u001b[0m Avg Training Acc: \u001b[32m90.1\u001b[0m Testing:"
            ],
            "text/html": [
              "<pre style=\"white-space:pre;overflow-x:auto;line-height:normal;font-family:Menlo,'DejaVu Sans Mono',consolas,'Courier New',monospace\">Avg Training loss: <span style=\"color: #000080; text-decoration-color: #000080\">0.2764</span> Avg Training Acc: <span style=\"color: #008000; text-decoration-color: #008000\">90.1</span> Testing:</pre>\n"
            ]
          },
          "metadata": {}
        },
        {
          "output_type": "display_data",
          "data": {
            "text/plain": [
              "Avg Test loss: \u001b[34m1.7206\u001b[0m Avg Test Acc: \u001b[32m70.5\u001b[0m\n"
            ],
            "text/html": [
              "<pre style=\"white-space:pre;overflow-x:auto;line-height:normal;font-family:Menlo,'DejaVu Sans Mono',consolas,'Courier New',monospace\">Avg Test loss: <span style=\"color: #000080; text-decoration-color: #000080\">1.7206</span> Avg Test Acc: <span style=\"color: #008000; text-decoration-color: #008000\">70.5</span>\n",
              "</pre>\n"
            ]
          },
          "metadata": {}
        },
        {
          "output_type": "display_data",
          "data": {
            "text/plain": [
              "Epoch \u001b[33m22/50\u001b[0m Training: "
            ],
            "text/html": [
              "<pre style=\"white-space:pre;overflow-x:auto;line-height:normal;font-family:Menlo,'DejaVu Sans Mono',consolas,'Courier New',monospace\">Epoch <span style=\"color: #808000; text-decoration-color: #808000\">22/50</span> Training: </pre>\n"
            ]
          },
          "metadata": {}
        },
        {
          "output_type": "stream",
          "name": "stderr",
          "text": [
            "100%|██████████| 12501/12501 [00:38<00:00, 323.48it/s]\n"
          ]
        },
        {
          "output_type": "display_data",
          "data": {
            "text/plain": [
              "Avg Training loss: \u001b[34m0.2707\u001b[0m Avg Training Acc: \u001b[32m90.5\u001b[0m Testing:"
            ],
            "text/html": [
              "<pre style=\"white-space:pre;overflow-x:auto;line-height:normal;font-family:Menlo,'DejaVu Sans Mono',consolas,'Courier New',monospace\">Avg Training loss: <span style=\"color: #000080; text-decoration-color: #000080\">0.2707</span> Avg Training Acc: <span style=\"color: #008000; text-decoration-color: #008000\">90.5</span> Testing:</pre>\n"
            ]
          },
          "metadata": {}
        },
        {
          "output_type": "display_data",
          "data": {
            "text/plain": [
              "Avg Test loss: \u001b[34m1.7944\u001b[0m Avg Test Acc: \u001b[32m70.5\u001b[0m\n"
            ],
            "text/html": [
              "<pre style=\"white-space:pre;overflow-x:auto;line-height:normal;font-family:Menlo,'DejaVu Sans Mono',consolas,'Courier New',monospace\">Avg Test loss: <span style=\"color: #000080; text-decoration-color: #000080\">1.7944</span> Avg Test Acc: <span style=\"color: #008000; text-decoration-color: #008000\">70.5</span>\n",
              "</pre>\n"
            ]
          },
          "metadata": {}
        },
        {
          "output_type": "display_data",
          "data": {
            "text/plain": [
              "Epoch \u001b[33m23/50\u001b[0m Training: "
            ],
            "text/html": [
              "<pre style=\"white-space:pre;overflow-x:auto;line-height:normal;font-family:Menlo,'DejaVu Sans Mono',consolas,'Courier New',monospace\">Epoch <span style=\"color: #808000; text-decoration-color: #808000\">23/50</span> Training: </pre>\n"
            ]
          },
          "metadata": {}
        },
        {
          "output_type": "stream",
          "name": "stderr",
          "text": [
            "100%|██████████| 12501/12501 [00:38<00:00, 325.59it/s]\n"
          ]
        },
        {
          "output_type": "display_data",
          "data": {
            "text/plain": [
              "Avg Training loss: \u001b[34m0.2646\u001b[0m Avg Training Acc: \u001b[32m90.8\u001b[0m Testing:"
            ],
            "text/html": [
              "<pre style=\"white-space:pre;overflow-x:auto;line-height:normal;font-family:Menlo,'DejaVu Sans Mono',consolas,'Courier New',monospace\">Avg Training loss: <span style=\"color: #000080; text-decoration-color: #000080\">0.2646</span> Avg Training Acc: <span style=\"color: #008000; text-decoration-color: #008000\">90.8</span> Testing:</pre>\n"
            ]
          },
          "metadata": {}
        },
        {
          "output_type": "display_data",
          "data": {
            "text/plain": [
              "Avg Test loss: \u001b[34m1.8788\u001b[0m Avg Test Acc: \u001b[32m70.4\u001b[0m\n"
            ],
            "text/html": [
              "<pre style=\"white-space:pre;overflow-x:auto;line-height:normal;font-family:Menlo,'DejaVu Sans Mono',consolas,'Courier New',monospace\">Avg Test loss: <span style=\"color: #000080; text-decoration-color: #000080\">1.8788</span> Avg Test Acc: <span style=\"color: #008000; text-decoration-color: #008000\">70.4</span>\n",
              "</pre>\n"
            ]
          },
          "metadata": {}
        },
        {
          "output_type": "display_data",
          "data": {
            "text/plain": [
              "Epoch \u001b[33m24/50\u001b[0m Training: "
            ],
            "text/html": [
              "<pre style=\"white-space:pre;overflow-x:auto;line-height:normal;font-family:Menlo,'DejaVu Sans Mono',consolas,'Courier New',monospace\">Epoch <span style=\"color: #808000; text-decoration-color: #808000\">24/50</span> Training: </pre>\n"
            ]
          },
          "metadata": {}
        },
        {
          "output_type": "stream",
          "name": "stderr",
          "text": [
            "100%|██████████| 12501/12501 [00:38<00:00, 328.95it/s]\n"
          ]
        },
        {
          "output_type": "display_data",
          "data": {
            "text/plain": [
              "Avg Training loss: \u001b[34m0.2603\u001b[0m Avg Training Acc: \u001b[32m91.1\u001b[0m Testing:"
            ],
            "text/html": [
              "<pre style=\"white-space:pre;overflow-x:auto;line-height:normal;font-family:Menlo,'DejaVu Sans Mono',consolas,'Courier New',monospace\">Avg Training loss: <span style=\"color: #000080; text-decoration-color: #000080\">0.2603</span> Avg Training Acc: <span style=\"color: #008000; text-decoration-color: #008000\">91.1</span> Testing:</pre>\n"
            ]
          },
          "metadata": {}
        },
        {
          "output_type": "display_data",
          "data": {
            "text/plain": [
              "Avg Test loss: \u001b[34m1.9506\u001b[0m Avg Test Acc: \u001b[32m70.8\u001b[0m\n"
            ],
            "text/html": [
              "<pre style=\"white-space:pre;overflow-x:auto;line-height:normal;font-family:Menlo,'DejaVu Sans Mono',consolas,'Courier New',monospace\">Avg Test loss: <span style=\"color: #000080; text-decoration-color: #000080\">1.9506</span> Avg Test Acc: <span style=\"color: #008000; text-decoration-color: #008000\">70.8</span>\n",
              "</pre>\n"
            ]
          },
          "metadata": {}
        },
        {
          "output_type": "display_data",
          "data": {
            "text/plain": [
              "Epoch \u001b[33m25/50\u001b[0m Training: "
            ],
            "text/html": [
              "<pre style=\"white-space:pre;overflow-x:auto;line-height:normal;font-family:Menlo,'DejaVu Sans Mono',consolas,'Courier New',monospace\">Epoch <span style=\"color: #808000; text-decoration-color: #808000\">25/50</span> Training: </pre>\n"
            ]
          },
          "metadata": {}
        },
        {
          "output_type": "stream",
          "name": "stderr",
          "text": [
            "100%|██████████| 12501/12501 [00:38<00:00, 322.56it/s]\n"
          ]
        },
        {
          "output_type": "display_data",
          "data": {
            "text/plain": [
              "Avg Training loss: \u001b[34m0.2566\u001b[0m Avg Training Acc: \u001b[32m91.4\u001b[0m Testing:"
            ],
            "text/html": [
              "<pre style=\"white-space:pre;overflow-x:auto;line-height:normal;font-family:Menlo,'DejaVu Sans Mono',consolas,'Courier New',monospace\">Avg Training loss: <span style=\"color: #000080; text-decoration-color: #000080\">0.2566</span> Avg Training Acc: <span style=\"color: #008000; text-decoration-color: #008000\">91.4</span> Testing:</pre>\n"
            ]
          },
          "metadata": {}
        },
        {
          "output_type": "display_data",
          "data": {
            "text/plain": [
              "Avg Test loss: \u001b[34m1.9792\u001b[0m Avg Test Acc: \u001b[32m70.6\u001b[0m\n"
            ],
            "text/html": [
              "<pre style=\"white-space:pre;overflow-x:auto;line-height:normal;font-family:Menlo,'DejaVu Sans Mono',consolas,'Courier New',monospace\">Avg Test loss: <span style=\"color: #000080; text-decoration-color: #000080\">1.9792</span> Avg Test Acc: <span style=\"color: #008000; text-decoration-color: #008000\">70.6</span>\n",
              "</pre>\n"
            ]
          },
          "metadata": {}
        },
        {
          "output_type": "display_data",
          "data": {
            "text/plain": [
              "Epoch \u001b[33m26/50\u001b[0m Training: "
            ],
            "text/html": [
              "<pre style=\"white-space:pre;overflow-x:auto;line-height:normal;font-family:Menlo,'DejaVu Sans Mono',consolas,'Courier New',monospace\">Epoch <span style=\"color: #808000; text-decoration-color: #808000\">26/50</span> Training: </pre>\n"
            ]
          },
          "metadata": {}
        },
        {
          "output_type": "stream",
          "name": "stderr",
          "text": [
            "100%|██████████| 12501/12501 [00:38<00:00, 327.82it/s]\n"
          ]
        },
        {
          "output_type": "display_data",
          "data": {
            "text/plain": [
              "Avg Training loss: \u001b[34m0.2519\u001b[0m Avg Training Acc: \u001b[32m91.7\u001b[0m Testing:"
            ],
            "text/html": [
              "<pre style=\"white-space:pre;overflow-x:auto;line-height:normal;font-family:Menlo,'DejaVu Sans Mono',consolas,'Courier New',monospace\">Avg Training loss: <span style=\"color: #000080; text-decoration-color: #000080\">0.2519</span> Avg Training Acc: <span style=\"color: #008000; text-decoration-color: #008000\">91.7</span> Testing:</pre>\n"
            ]
          },
          "metadata": {}
        },
        {
          "output_type": "display_data",
          "data": {
            "text/plain": [
              "Avg Test loss: \u001b[34m2.0777\u001b[0m Avg Test Acc: \u001b[32m70.4\u001b[0m\n"
            ],
            "text/html": [
              "<pre style=\"white-space:pre;overflow-x:auto;line-height:normal;font-family:Menlo,'DejaVu Sans Mono',consolas,'Courier New',monospace\">Avg Test loss: <span style=\"color: #000080; text-decoration-color: #000080\">2.0777</span> Avg Test Acc: <span style=\"color: #008000; text-decoration-color: #008000\">70.4</span>\n",
              "</pre>\n"
            ]
          },
          "metadata": {}
        },
        {
          "output_type": "display_data",
          "data": {
            "text/plain": [
              "Epoch \u001b[33m27/50\u001b[0m Training: "
            ],
            "text/html": [
              "<pre style=\"white-space:pre;overflow-x:auto;line-height:normal;font-family:Menlo,'DejaVu Sans Mono',consolas,'Courier New',monospace\">Epoch <span style=\"color: #808000; text-decoration-color: #808000\">27/50</span> Training: </pre>\n"
            ]
          },
          "metadata": {}
        },
        {
          "output_type": "stream",
          "name": "stderr",
          "text": [
            "100%|██████████| 12501/12501 [00:38<00:00, 325.70it/s]\n"
          ]
        },
        {
          "output_type": "display_data",
          "data": {
            "text/plain": [
              "Avg Training loss: \u001b[34m0.2484\u001b[0m Avg Training Acc: \u001b[32m91.9\u001b[0m Testing:"
            ],
            "text/html": [
              "<pre style=\"white-space:pre;overflow-x:auto;line-height:normal;font-family:Menlo,'DejaVu Sans Mono',consolas,'Courier New',monospace\">Avg Training loss: <span style=\"color: #000080; text-decoration-color: #000080\">0.2484</span> Avg Training Acc: <span style=\"color: #008000; text-decoration-color: #008000\">91.9</span> Testing:</pre>\n"
            ]
          },
          "metadata": {}
        },
        {
          "output_type": "display_data",
          "data": {
            "text/plain": [
              "Avg Test loss: \u001b[34m2.1647\u001b[0m Avg Test Acc: \u001b[32m70.1\u001b[0m\n"
            ],
            "text/html": [
              "<pre style=\"white-space:pre;overflow-x:auto;line-height:normal;font-family:Menlo,'DejaVu Sans Mono',consolas,'Courier New',monospace\">Avg Test loss: <span style=\"color: #000080; text-decoration-color: #000080\">2.1647</span> Avg Test Acc: <span style=\"color: #008000; text-decoration-color: #008000\">70.1</span>\n",
              "</pre>\n"
            ]
          },
          "metadata": {}
        },
        {
          "output_type": "display_data",
          "data": {
            "text/plain": [
              "Epoch \u001b[33m28/50\u001b[0m Training: "
            ],
            "text/html": [
              "<pre style=\"white-space:pre;overflow-x:auto;line-height:normal;font-family:Menlo,'DejaVu Sans Mono',consolas,'Courier New',monospace\">Epoch <span style=\"color: #808000; text-decoration-color: #808000\">28/50</span> Training: </pre>\n"
            ]
          },
          "metadata": {}
        },
        {
          "output_type": "stream",
          "name": "stderr",
          "text": [
            "100%|██████████| 12501/12501 [00:38<00:00, 324.40it/s]\n"
          ]
        },
        {
          "output_type": "display_data",
          "data": {
            "text/plain": [
              "Avg Training loss: \u001b[34m0.2455\u001b[0m Avg Training Acc: \u001b[32m92.2\u001b[0m Testing:"
            ],
            "text/html": [
              "<pre style=\"white-space:pre;overflow-x:auto;line-height:normal;font-family:Menlo,'DejaVu Sans Mono',consolas,'Courier New',monospace\">Avg Training loss: <span style=\"color: #000080; text-decoration-color: #000080\">0.2455</span> Avg Training Acc: <span style=\"color: #008000; text-decoration-color: #008000\">92.2</span> Testing:</pre>\n"
            ]
          },
          "metadata": {}
        },
        {
          "output_type": "display_data",
          "data": {
            "text/plain": [
              "Avg Test loss: \u001b[34m2.2061\u001b[0m Avg Test Acc: \u001b[32m69.9\u001b[0m\n"
            ],
            "text/html": [
              "<pre style=\"white-space:pre;overflow-x:auto;line-height:normal;font-family:Menlo,'DejaVu Sans Mono',consolas,'Courier New',monospace\">Avg Test loss: <span style=\"color: #000080; text-decoration-color: #000080\">2.2061</span> Avg Test Acc: <span style=\"color: #008000; text-decoration-color: #008000\">69.9</span>\n",
              "</pre>\n"
            ]
          },
          "metadata": {}
        },
        {
          "output_type": "display_data",
          "data": {
            "text/plain": [
              "Epoch \u001b[33m29/50\u001b[0m Training: "
            ],
            "text/html": [
              "<pre style=\"white-space:pre;overflow-x:auto;line-height:normal;font-family:Menlo,'DejaVu Sans Mono',consolas,'Courier New',monospace\">Epoch <span style=\"color: #808000; text-decoration-color: #808000\">29/50</span> Training: </pre>\n"
            ]
          },
          "metadata": {}
        },
        {
          "output_type": "stream",
          "name": "stderr",
          "text": [
            "100%|██████████| 12501/12501 [00:38<00:00, 324.12it/s]\n"
          ]
        },
        {
          "output_type": "display_data",
          "data": {
            "text/plain": [
              "Avg Training loss: \u001b[34m0.2436\u001b[0m Avg Training Acc: \u001b[32m92.4\u001b[0m Testing:"
            ],
            "text/html": [
              "<pre style=\"white-space:pre;overflow-x:auto;line-height:normal;font-family:Menlo,'DejaVu Sans Mono',consolas,'Courier New',monospace\">Avg Training loss: <span style=\"color: #000080; text-decoration-color: #000080\">0.2436</span> Avg Training Acc: <span style=\"color: #008000; text-decoration-color: #008000\">92.4</span> Testing:</pre>\n"
            ]
          },
          "metadata": {}
        },
        {
          "output_type": "display_data",
          "data": {
            "text/plain": [
              "Avg Test loss: \u001b[34m2.3127\u001b[0m Avg Test Acc: \u001b[32m70.6\u001b[0m\n"
            ],
            "text/html": [
              "<pre style=\"white-space:pre;overflow-x:auto;line-height:normal;font-family:Menlo,'DejaVu Sans Mono',consolas,'Courier New',monospace\">Avg Test loss: <span style=\"color: #000080; text-decoration-color: #000080\">2.3127</span> Avg Test Acc: <span style=\"color: #008000; text-decoration-color: #008000\">70.6</span>\n",
              "</pre>\n"
            ]
          },
          "metadata": {}
        },
        {
          "output_type": "display_data",
          "data": {
            "text/plain": [
              "Epoch \u001b[33m30/50\u001b[0m Training: "
            ],
            "text/html": [
              "<pre style=\"white-space:pre;overflow-x:auto;line-height:normal;font-family:Menlo,'DejaVu Sans Mono',consolas,'Courier New',monospace\">Epoch <span style=\"color: #808000; text-decoration-color: #808000\">30/50</span> Training: </pre>\n"
            ]
          },
          "metadata": {}
        },
        {
          "output_type": "stream",
          "name": "stderr",
          "text": [
            "100%|██████████| 12501/12501 [00:38<00:00, 325.22it/s]\n"
          ]
        },
        {
          "output_type": "display_data",
          "data": {
            "text/plain": [
              "Avg Training loss: \u001b[34m0.2394\u001b[0m Avg Training Acc: \u001b[32m92.6\u001b[0m Testing:"
            ],
            "text/html": [
              "<pre style=\"white-space:pre;overflow-x:auto;line-height:normal;font-family:Menlo,'DejaVu Sans Mono',consolas,'Courier New',monospace\">Avg Training loss: <span style=\"color: #000080; text-decoration-color: #000080\">0.2394</span> Avg Training Acc: <span style=\"color: #008000; text-decoration-color: #008000\">92.6</span> Testing:</pre>\n"
            ]
          },
          "metadata": {}
        },
        {
          "output_type": "display_data",
          "data": {
            "text/plain": [
              "Avg Test loss: \u001b[34m2.3994\u001b[0m Avg Test Acc: \u001b[32m70.6\u001b[0m\n"
            ],
            "text/html": [
              "<pre style=\"white-space:pre;overflow-x:auto;line-height:normal;font-family:Menlo,'DejaVu Sans Mono',consolas,'Courier New',monospace\">Avg Test loss: <span style=\"color: #000080; text-decoration-color: #000080\">2.3994</span> Avg Test Acc: <span style=\"color: #008000; text-decoration-color: #008000\">70.6</span>\n",
              "</pre>\n"
            ]
          },
          "metadata": {}
        },
        {
          "output_type": "display_data",
          "data": {
            "text/plain": [
              "Epoch \u001b[33m31/50\u001b[0m Training: "
            ],
            "text/html": [
              "<pre style=\"white-space:pre;overflow-x:auto;line-height:normal;font-family:Menlo,'DejaVu Sans Mono',consolas,'Courier New',monospace\">Epoch <span style=\"color: #808000; text-decoration-color: #808000\">31/50</span> Training: </pre>\n"
            ]
          },
          "metadata": {}
        },
        {
          "output_type": "stream",
          "name": "stderr",
          "text": [
            "100%|██████████| 12501/12501 [00:38<00:00, 328.03it/s]\n"
          ]
        },
        {
          "output_type": "display_data",
          "data": {
            "text/plain": [
              "Avg Training loss: \u001b[34m0.2378\u001b[0m Avg Training Acc: \u001b[32m92.7\u001b[0m Testing:"
            ],
            "text/html": [
              "<pre style=\"white-space:pre;overflow-x:auto;line-height:normal;font-family:Menlo,'DejaVu Sans Mono',consolas,'Courier New',monospace\">Avg Training loss: <span style=\"color: #000080; text-decoration-color: #000080\">0.2378</span> Avg Training Acc: <span style=\"color: #008000; text-decoration-color: #008000\">92.7</span> Testing:</pre>\n"
            ]
          },
          "metadata": {}
        },
        {
          "output_type": "display_data",
          "data": {
            "text/plain": [
              "Avg Test loss: \u001b[34m2.4068\u001b[0m Avg Test Acc: \u001b[32m70.2\u001b[0m\n"
            ],
            "text/html": [
              "<pre style=\"white-space:pre;overflow-x:auto;line-height:normal;font-family:Menlo,'DejaVu Sans Mono',consolas,'Courier New',monospace\">Avg Test loss: <span style=\"color: #000080; text-decoration-color: #000080\">2.4068</span> Avg Test Acc: <span style=\"color: #008000; text-decoration-color: #008000\">70.2</span>\n",
              "</pre>\n"
            ]
          },
          "metadata": {}
        },
        {
          "output_type": "display_data",
          "data": {
            "text/plain": [
              "Epoch \u001b[33m32/50\u001b[0m Training: "
            ],
            "text/html": [
              "<pre style=\"white-space:pre;overflow-x:auto;line-height:normal;font-family:Menlo,'DejaVu Sans Mono',consolas,'Courier New',monospace\">Epoch <span style=\"color: #808000; text-decoration-color: #808000\">32/50</span> Training: </pre>\n"
            ]
          },
          "metadata": {}
        },
        {
          "output_type": "stream",
          "name": "stderr",
          "text": [
            "100%|██████████| 12501/12501 [00:38<00:00, 324.66it/s]\n"
          ]
        },
        {
          "output_type": "display_data",
          "data": {
            "text/plain": [
              "Avg Training loss: \u001b[34m0.2323\u001b[0m Avg Training Acc: \u001b[32m93.0\u001b[0m Testing:"
            ],
            "text/html": [
              "<pre style=\"white-space:pre;overflow-x:auto;line-height:normal;font-family:Menlo,'DejaVu Sans Mono',consolas,'Courier New',monospace\">Avg Training loss: <span style=\"color: #000080; text-decoration-color: #000080\">0.2323</span> Avg Training Acc: <span style=\"color: #008000; text-decoration-color: #008000\">93.0</span> Testing:</pre>\n"
            ]
          },
          "metadata": {}
        },
        {
          "output_type": "display_data",
          "data": {
            "text/plain": [
              "Avg Test loss: \u001b[34m2.5158\u001b[0m Avg Test Acc: \u001b[32m70.4\u001b[0m\n"
            ],
            "text/html": [
              "<pre style=\"white-space:pre;overflow-x:auto;line-height:normal;font-family:Menlo,'DejaVu Sans Mono',consolas,'Courier New',monospace\">Avg Test loss: <span style=\"color: #000080; text-decoration-color: #000080\">2.5158</span> Avg Test Acc: <span style=\"color: #008000; text-decoration-color: #008000\">70.4</span>\n",
              "</pre>\n"
            ]
          },
          "metadata": {}
        },
        {
          "output_type": "display_data",
          "data": {
            "text/plain": [
              "Epoch \u001b[33m33/50\u001b[0m Training: "
            ],
            "text/html": [
              "<pre style=\"white-space:pre;overflow-x:auto;line-height:normal;font-family:Menlo,'DejaVu Sans Mono',consolas,'Courier New',monospace\">Epoch <span style=\"color: #808000; text-decoration-color: #808000\">33/50</span> Training: </pre>\n"
            ]
          },
          "metadata": {}
        },
        {
          "output_type": "stream",
          "name": "stderr",
          "text": [
            "100%|██████████| 12501/12501 [00:39<00:00, 319.94it/s]\n"
          ]
        },
        {
          "output_type": "display_data",
          "data": {
            "text/plain": [
              "Avg Training loss: \u001b[34m0.2331\u001b[0m Avg Training Acc: \u001b[32m93.1\u001b[0m Testing:"
            ],
            "text/html": [
              "<pre style=\"white-space:pre;overflow-x:auto;line-height:normal;font-family:Menlo,'DejaVu Sans Mono',consolas,'Courier New',monospace\">Avg Training loss: <span style=\"color: #000080; text-decoration-color: #000080\">0.2331</span> Avg Training Acc: <span style=\"color: #008000; text-decoration-color: #008000\">93.1</span> Testing:</pre>\n"
            ]
          },
          "metadata": {}
        },
        {
          "output_type": "display_data",
          "data": {
            "text/plain": [
              "Avg Test loss: \u001b[34m2.6058\u001b[0m Avg Test Acc: \u001b[32m70.2\u001b[0m\n"
            ],
            "text/html": [
              "<pre style=\"white-space:pre;overflow-x:auto;line-height:normal;font-family:Menlo,'DejaVu Sans Mono',consolas,'Courier New',monospace\">Avg Test loss: <span style=\"color: #000080; text-decoration-color: #000080\">2.6058</span> Avg Test Acc: <span style=\"color: #008000; text-decoration-color: #008000\">70.2</span>\n",
              "</pre>\n"
            ]
          },
          "metadata": {}
        },
        {
          "output_type": "display_data",
          "data": {
            "text/plain": [
              "Epoch \u001b[33m34/50\u001b[0m Training: "
            ],
            "text/html": [
              "<pre style=\"white-space:pre;overflow-x:auto;line-height:normal;font-family:Menlo,'DejaVu Sans Mono',consolas,'Courier New',monospace\">Epoch <span style=\"color: #808000; text-decoration-color: #808000\">34/50</span> Training: </pre>\n"
            ]
          },
          "metadata": {}
        },
        {
          "output_type": "stream",
          "name": "stderr",
          "text": [
            "100%|██████████| 12501/12501 [00:39<00:00, 318.75it/s]\n"
          ]
        },
        {
          "output_type": "display_data",
          "data": {
            "text/plain": [
              "Avg Training loss: \u001b[34m0.2299\u001b[0m Avg Training Acc: \u001b[32m93.3\u001b[0m Testing:"
            ],
            "text/html": [
              "<pre style=\"white-space:pre;overflow-x:auto;line-height:normal;font-family:Menlo,'DejaVu Sans Mono',consolas,'Courier New',monospace\">Avg Training loss: <span style=\"color: #000080; text-decoration-color: #000080\">0.2299</span> Avg Training Acc: <span style=\"color: #008000; text-decoration-color: #008000\">93.3</span> Testing:</pre>\n"
            ]
          },
          "metadata": {}
        },
        {
          "output_type": "display_data",
          "data": {
            "text/plain": [
              "Avg Test loss: \u001b[34m2.6916\u001b[0m Avg Test Acc: \u001b[32m70.4\u001b[0m\n"
            ],
            "text/html": [
              "<pre style=\"white-space:pre;overflow-x:auto;line-height:normal;font-family:Menlo,'DejaVu Sans Mono',consolas,'Courier New',monospace\">Avg Test loss: <span style=\"color: #000080; text-decoration-color: #000080\">2.6916</span> Avg Test Acc: <span style=\"color: #008000; text-decoration-color: #008000\">70.4</span>\n",
              "</pre>\n"
            ]
          },
          "metadata": {}
        },
        {
          "output_type": "display_data",
          "data": {
            "text/plain": [
              "Epoch \u001b[33m35/50\u001b[0m Training: "
            ],
            "text/html": [
              "<pre style=\"white-space:pre;overflow-x:auto;line-height:normal;font-family:Menlo,'DejaVu Sans Mono',consolas,'Courier New',monospace\">Epoch <span style=\"color: #808000; text-decoration-color: #808000\">35/50</span> Training: </pre>\n"
            ]
          },
          "metadata": {}
        },
        {
          "output_type": "stream",
          "name": "stderr",
          "text": [
            "100%|██████████| 12501/12501 [00:38<00:00, 320.59it/s]\n"
          ]
        },
        {
          "output_type": "display_data",
          "data": {
            "text/plain": [
              "Avg Training loss: \u001b[34m0.2269\u001b[0m Avg Training Acc: \u001b[32m93.5\u001b[0m Testing:"
            ],
            "text/html": [
              "<pre style=\"white-space:pre;overflow-x:auto;line-height:normal;font-family:Menlo,'DejaVu Sans Mono',consolas,'Courier New',monospace\">Avg Training loss: <span style=\"color: #000080; text-decoration-color: #000080\">0.2269</span> Avg Training Acc: <span style=\"color: #008000; text-decoration-color: #008000\">93.5</span> Testing:</pre>\n"
            ]
          },
          "metadata": {}
        },
        {
          "output_type": "display_data",
          "data": {
            "text/plain": [
              "Avg Test loss: \u001b[34m2.7267\u001b[0m Avg Test Acc: \u001b[32m69.9\u001b[0m\n"
            ],
            "text/html": [
              "<pre style=\"white-space:pre;overflow-x:auto;line-height:normal;font-family:Menlo,'DejaVu Sans Mono',consolas,'Courier New',monospace\">Avg Test loss: <span style=\"color: #000080; text-decoration-color: #000080\">2.7267</span> Avg Test Acc: <span style=\"color: #008000; text-decoration-color: #008000\">69.9</span>\n",
              "</pre>\n"
            ]
          },
          "metadata": {}
        },
        {
          "output_type": "display_data",
          "data": {
            "text/plain": [
              "Epoch \u001b[33m36/50\u001b[0m Training: "
            ],
            "text/html": [
              "<pre style=\"white-space:pre;overflow-x:auto;line-height:normal;font-family:Menlo,'DejaVu Sans Mono',consolas,'Courier New',monospace\">Epoch <span style=\"color: #808000; text-decoration-color: #808000\">36/50</span> Training: </pre>\n"
            ]
          },
          "metadata": {}
        },
        {
          "output_type": "stream",
          "name": "stderr",
          "text": [
            "100%|██████████| 12501/12501 [00:38<00:00, 320.99it/s]\n"
          ]
        },
        {
          "output_type": "display_data",
          "data": {
            "text/plain": [
              "Avg Training loss: \u001b[34m0.2241\u001b[0m Avg Training Acc: \u001b[32m93.7\u001b[0m Testing:"
            ],
            "text/html": [
              "<pre style=\"white-space:pre;overflow-x:auto;line-height:normal;font-family:Menlo,'DejaVu Sans Mono',consolas,'Courier New',monospace\">Avg Training loss: <span style=\"color: #000080; text-decoration-color: #000080\">0.2241</span> Avg Training Acc: <span style=\"color: #008000; text-decoration-color: #008000\">93.7</span> Testing:</pre>\n"
            ]
          },
          "metadata": {}
        },
        {
          "output_type": "display_data",
          "data": {
            "text/plain": [
              "Avg Test loss: \u001b[34m2.8293\u001b[0m Avg Test Acc: \u001b[32m70.4\u001b[0m\n"
            ],
            "text/html": [
              "<pre style=\"white-space:pre;overflow-x:auto;line-height:normal;font-family:Menlo,'DejaVu Sans Mono',consolas,'Courier New',monospace\">Avg Test loss: <span style=\"color: #000080; text-decoration-color: #000080\">2.8293</span> Avg Test Acc: <span style=\"color: #008000; text-decoration-color: #008000\">70.4</span>\n",
              "</pre>\n"
            ]
          },
          "metadata": {}
        },
        {
          "output_type": "display_data",
          "data": {
            "text/plain": [
              "Epoch \u001b[33m37/50\u001b[0m Training: "
            ],
            "text/html": [
              "<pre style=\"white-space:pre;overflow-x:auto;line-height:normal;font-family:Menlo,'DejaVu Sans Mono',consolas,'Courier New',monospace\">Epoch <span style=\"color: #808000; text-decoration-color: #808000\">37/50</span> Training: </pre>\n"
            ]
          },
          "metadata": {}
        },
        {
          "output_type": "stream",
          "name": "stderr",
          "text": [
            "100%|██████████| 12501/12501 [00:39<00:00, 318.23it/s]\n"
          ]
        },
        {
          "output_type": "display_data",
          "data": {
            "text/plain": [
              "Avg Training loss: \u001b[34m0.2250\u001b[0m Avg Training Acc: \u001b[32m93.7\u001b[0m Testing:"
            ],
            "text/html": [
              "<pre style=\"white-space:pre;overflow-x:auto;line-height:normal;font-family:Menlo,'DejaVu Sans Mono',consolas,'Courier New',monospace\">Avg Training loss: <span style=\"color: #000080; text-decoration-color: #000080\">0.2250</span> Avg Training Acc: <span style=\"color: #008000; text-decoration-color: #008000\">93.7</span> Testing:</pre>\n"
            ]
          },
          "metadata": {}
        },
        {
          "output_type": "display_data",
          "data": {
            "text/plain": [
              "Avg Test loss: \u001b[34m2.8731\u001b[0m Avg Test Acc: \u001b[32m70.3\u001b[0m\n"
            ],
            "text/html": [
              "<pre style=\"white-space:pre;overflow-x:auto;line-height:normal;font-family:Menlo,'DejaVu Sans Mono',consolas,'Courier New',monospace\">Avg Test loss: <span style=\"color: #000080; text-decoration-color: #000080\">2.8731</span> Avg Test Acc: <span style=\"color: #008000; text-decoration-color: #008000\">70.3</span>\n",
              "</pre>\n"
            ]
          },
          "metadata": {}
        },
        {
          "output_type": "display_data",
          "data": {
            "text/plain": [
              "Epoch \u001b[33m38/50\u001b[0m Training: "
            ],
            "text/html": [
              "<pre style=\"white-space:pre;overflow-x:auto;line-height:normal;font-family:Menlo,'DejaVu Sans Mono',consolas,'Courier New',monospace\">Epoch <span style=\"color: #808000; text-decoration-color: #808000\">38/50</span> Training: </pre>\n"
            ]
          },
          "metadata": {}
        },
        {
          "output_type": "stream",
          "name": "stderr",
          "text": [
            "100%|██████████| 12501/12501 [00:39<00:00, 317.96it/s]\n"
          ]
        },
        {
          "output_type": "display_data",
          "data": {
            "text/plain": [
              "Avg Training loss: \u001b[34m0.2225\u001b[0m Avg Training Acc: \u001b[32m93.9\u001b[0m Testing:"
            ],
            "text/html": [
              "<pre style=\"white-space:pre;overflow-x:auto;line-height:normal;font-family:Menlo,'DejaVu Sans Mono',consolas,'Courier New',monospace\">Avg Training loss: <span style=\"color: #000080; text-decoration-color: #000080\">0.2225</span> Avg Training Acc: <span style=\"color: #008000; text-decoration-color: #008000\">93.9</span> Testing:</pre>\n"
            ]
          },
          "metadata": {}
        },
        {
          "output_type": "display_data",
          "data": {
            "text/plain": [
              "Avg Test loss: \u001b[34m2.9602\u001b[0m Avg Test Acc: \u001b[32m70.5\u001b[0m\n"
            ],
            "text/html": [
              "<pre style=\"white-space:pre;overflow-x:auto;line-height:normal;font-family:Menlo,'DejaVu Sans Mono',consolas,'Courier New',monospace\">Avg Test loss: <span style=\"color: #000080; text-decoration-color: #000080\">2.9602</span> Avg Test Acc: <span style=\"color: #008000; text-decoration-color: #008000\">70.5</span>\n",
              "</pre>\n"
            ]
          },
          "metadata": {}
        },
        {
          "output_type": "display_data",
          "data": {
            "text/plain": [
              "Epoch \u001b[33m39/50\u001b[0m Training: "
            ],
            "text/html": [
              "<pre style=\"white-space:pre;overflow-x:auto;line-height:normal;font-family:Menlo,'DejaVu Sans Mono',consolas,'Courier New',monospace\">Epoch <span style=\"color: #808000; text-decoration-color: #808000\">39/50</span> Training: </pre>\n"
            ]
          },
          "metadata": {}
        },
        {
          "output_type": "stream",
          "name": "stderr",
          "text": [
            "100%|██████████| 12501/12501 [00:39<00:00, 316.33it/s]\n"
          ]
        },
        {
          "output_type": "display_data",
          "data": {
            "text/plain": [
              "Avg Training loss: \u001b[34m0.2209\u001b[0m Avg Training Acc: \u001b[32m94.0\u001b[0m Testing:"
            ],
            "text/html": [
              "<pre style=\"white-space:pre;overflow-x:auto;line-height:normal;font-family:Menlo,'DejaVu Sans Mono',consolas,'Courier New',monospace\">Avg Training loss: <span style=\"color: #000080; text-decoration-color: #000080\">0.2209</span> Avg Training Acc: <span style=\"color: #008000; text-decoration-color: #008000\">94.0</span> Testing:</pre>\n"
            ]
          },
          "metadata": {}
        },
        {
          "output_type": "display_data",
          "data": {
            "text/plain": [
              "Avg Test loss: \u001b[34m3.0132\u001b[0m Avg Test Acc: \u001b[32m70.0\u001b[0m\n"
            ],
            "text/html": [
              "<pre style=\"white-space:pre;overflow-x:auto;line-height:normal;font-family:Menlo,'DejaVu Sans Mono',consolas,'Courier New',monospace\">Avg Test loss: <span style=\"color: #000080; text-decoration-color: #000080\">3.0132</span> Avg Test Acc: <span style=\"color: #008000; text-decoration-color: #008000\">70.0</span>\n",
              "</pre>\n"
            ]
          },
          "metadata": {}
        },
        {
          "output_type": "display_data",
          "data": {
            "text/plain": [
              "Epoch \u001b[33m40/50\u001b[0m Training: "
            ],
            "text/html": [
              "<pre style=\"white-space:pre;overflow-x:auto;line-height:normal;font-family:Menlo,'DejaVu Sans Mono',consolas,'Courier New',monospace\">Epoch <span style=\"color: #808000; text-decoration-color: #808000\">40/50</span> Training: </pre>\n"
            ]
          },
          "metadata": {}
        },
        {
          "output_type": "stream",
          "name": "stderr",
          "text": [
            "100%|██████████| 12501/12501 [00:40<00:00, 311.74it/s]\n"
          ]
        },
        {
          "output_type": "display_data",
          "data": {
            "text/plain": [
              "Avg Training loss: \u001b[34m0.2178\u001b[0m Avg Training Acc: \u001b[32m94.2\u001b[0m Testing:"
            ],
            "text/html": [
              "<pre style=\"white-space:pre;overflow-x:auto;line-height:normal;font-family:Menlo,'DejaVu Sans Mono',consolas,'Courier New',monospace\">Avg Training loss: <span style=\"color: #000080; text-decoration-color: #000080\">0.2178</span> Avg Training Acc: <span style=\"color: #008000; text-decoration-color: #008000\">94.2</span> Testing:</pre>\n"
            ]
          },
          "metadata": {}
        },
        {
          "output_type": "display_data",
          "data": {
            "text/plain": [
              "Avg Test loss: \u001b[34m3.1112\u001b[0m Avg Test Acc: \u001b[32m70.4\u001b[0m\n"
            ],
            "text/html": [
              "<pre style=\"white-space:pre;overflow-x:auto;line-height:normal;font-family:Menlo,'DejaVu Sans Mono',consolas,'Courier New',monospace\">Avg Test loss: <span style=\"color: #000080; text-decoration-color: #000080\">3.1112</span> Avg Test Acc: <span style=\"color: #008000; text-decoration-color: #008000\">70.4</span>\n",
              "</pre>\n"
            ]
          },
          "metadata": {}
        },
        {
          "output_type": "display_data",
          "data": {
            "text/plain": [
              "Epoch \u001b[33m41/50\u001b[0m Training: "
            ],
            "text/html": [
              "<pre style=\"white-space:pre;overflow-x:auto;line-height:normal;font-family:Menlo,'DejaVu Sans Mono',consolas,'Courier New',monospace\">Epoch <span style=\"color: #808000; text-decoration-color: #808000\">41/50</span> Training: </pre>\n"
            ]
          },
          "metadata": {}
        },
        {
          "output_type": "stream",
          "name": "stderr",
          "text": [
            "100%|██████████| 12501/12501 [00:39<00:00, 316.66it/s]\n"
          ]
        },
        {
          "output_type": "display_data",
          "data": {
            "text/plain": [
              "Avg Training loss: \u001b[34m0.2166\u001b[0m Avg Training Acc: \u001b[32m94.3\u001b[0m Testing:"
            ],
            "text/html": [
              "<pre style=\"white-space:pre;overflow-x:auto;line-height:normal;font-family:Menlo,'DejaVu Sans Mono',consolas,'Courier New',monospace\">Avg Training loss: <span style=\"color: #000080; text-decoration-color: #000080\">0.2166</span> Avg Training Acc: <span style=\"color: #008000; text-decoration-color: #008000\">94.3</span> Testing:</pre>\n"
            ]
          },
          "metadata": {}
        },
        {
          "output_type": "display_data",
          "data": {
            "text/plain": [
              "Avg Test loss: \u001b[34m3.1796\u001b[0m Avg Test Acc: \u001b[32m70.5\u001b[0m\n"
            ],
            "text/html": [
              "<pre style=\"white-space:pre;overflow-x:auto;line-height:normal;font-family:Menlo,'DejaVu Sans Mono',consolas,'Courier New',monospace\">Avg Test loss: <span style=\"color: #000080; text-decoration-color: #000080\">3.1796</span> Avg Test Acc: <span style=\"color: #008000; text-decoration-color: #008000\">70.5</span>\n",
              "</pre>\n"
            ]
          },
          "metadata": {}
        },
        {
          "output_type": "display_data",
          "data": {
            "text/plain": [
              "Epoch \u001b[33m42/50\u001b[0m Training: "
            ],
            "text/html": [
              "<pre style=\"white-space:pre;overflow-x:auto;line-height:normal;font-family:Menlo,'DejaVu Sans Mono',consolas,'Courier New',monospace\">Epoch <span style=\"color: #808000; text-decoration-color: #808000\">42/50</span> Training: </pre>\n"
            ]
          },
          "metadata": {}
        },
        {
          "output_type": "stream",
          "name": "stderr",
          "text": [
            "100%|██████████| 12501/12501 [00:39<00:00, 312.54it/s]\n"
          ]
        },
        {
          "output_type": "display_data",
          "data": {
            "text/plain": [
              "Avg Training loss: \u001b[34m0.2161\u001b[0m Avg Training Acc: \u001b[32m94.4\u001b[0m Testing:"
            ],
            "text/html": [
              "<pre style=\"white-space:pre;overflow-x:auto;line-height:normal;font-family:Menlo,'DejaVu Sans Mono',consolas,'Courier New',monospace\">Avg Training loss: <span style=\"color: #000080; text-decoration-color: #000080\">0.2161</span> Avg Training Acc: <span style=\"color: #008000; text-decoration-color: #008000\">94.4</span> Testing:</pre>\n"
            ]
          },
          "metadata": {}
        },
        {
          "output_type": "display_data",
          "data": {
            "text/plain": [
              "Avg Test loss: \u001b[34m3.2298\u001b[0m Avg Test Acc: \u001b[32m70.5\u001b[0m\n"
            ],
            "text/html": [
              "<pre style=\"white-space:pre;overflow-x:auto;line-height:normal;font-family:Menlo,'DejaVu Sans Mono',consolas,'Courier New',monospace\">Avg Test loss: <span style=\"color: #000080; text-decoration-color: #000080\">3.2298</span> Avg Test Acc: <span style=\"color: #008000; text-decoration-color: #008000\">70.5</span>\n",
              "</pre>\n"
            ]
          },
          "metadata": {}
        },
        {
          "output_type": "display_data",
          "data": {
            "text/plain": [
              "Epoch \u001b[33m43/50\u001b[0m Training: "
            ],
            "text/html": [
              "<pre style=\"white-space:pre;overflow-x:auto;line-height:normal;font-family:Menlo,'DejaVu Sans Mono',consolas,'Courier New',monospace\">Epoch <span style=\"color: #808000; text-decoration-color: #808000\">43/50</span> Training: </pre>\n"
            ]
          },
          "metadata": {}
        },
        {
          "output_type": "stream",
          "name": "stderr",
          "text": [
            "100%|██████████| 12501/12501 [00:39<00:00, 314.97it/s]\n"
          ]
        },
        {
          "output_type": "display_data",
          "data": {
            "text/plain": [
              "Avg Training loss: \u001b[34m0.2151\u001b[0m Avg Training Acc: \u001b[32m94.5\u001b[0m Testing:"
            ],
            "text/html": [
              "<pre style=\"white-space:pre;overflow-x:auto;line-height:normal;font-family:Menlo,'DejaVu Sans Mono',consolas,'Courier New',monospace\">Avg Training loss: <span style=\"color: #000080; text-decoration-color: #000080\">0.2151</span> Avg Training Acc: <span style=\"color: #008000; text-decoration-color: #008000\">94.5</span> Testing:</pre>\n"
            ]
          },
          "metadata": {}
        },
        {
          "output_type": "display_data",
          "data": {
            "text/plain": [
              "Avg Test loss: \u001b[34m3.4052\u001b[0m Avg Test Acc: \u001b[32m70.4\u001b[0m\n"
            ],
            "text/html": [
              "<pre style=\"white-space:pre;overflow-x:auto;line-height:normal;font-family:Menlo,'DejaVu Sans Mono',consolas,'Courier New',monospace\">Avg Test loss: <span style=\"color: #000080; text-decoration-color: #000080\">3.4052</span> Avg Test Acc: <span style=\"color: #008000; text-decoration-color: #008000\">70.4</span>\n",
              "</pre>\n"
            ]
          },
          "metadata": {}
        },
        {
          "output_type": "display_data",
          "data": {
            "text/plain": [
              "Epoch \u001b[33m44/50\u001b[0m Training: "
            ],
            "text/html": [
              "<pre style=\"white-space:pre;overflow-x:auto;line-height:normal;font-family:Menlo,'DejaVu Sans Mono',consolas,'Courier New',monospace\">Epoch <span style=\"color: #808000; text-decoration-color: #808000\">44/50</span> Training: </pre>\n"
            ]
          },
          "metadata": {}
        },
        {
          "output_type": "stream",
          "name": "stderr",
          "text": [
            "100%|██████████| 12501/12501 [00:39<00:00, 318.43it/s]\n"
          ]
        },
        {
          "output_type": "display_data",
          "data": {
            "text/plain": [
              "Avg Training loss: \u001b[34m0.2131\u001b[0m Avg Training Acc: \u001b[32m94.6\u001b[0m Testing:"
            ],
            "text/html": [
              "<pre style=\"white-space:pre;overflow-x:auto;line-height:normal;font-family:Menlo,'DejaVu Sans Mono',consolas,'Courier New',monospace\">Avg Training loss: <span style=\"color: #000080; text-decoration-color: #000080\">0.2131</span> Avg Training Acc: <span style=\"color: #008000; text-decoration-color: #008000\">94.6</span> Testing:</pre>\n"
            ]
          },
          "metadata": {}
        },
        {
          "output_type": "display_data",
          "data": {
            "text/plain": [
              "Avg Test loss: \u001b[34m3.4389\u001b[0m Avg Test Acc: \u001b[32m70.6\u001b[0m\n"
            ],
            "text/html": [
              "<pre style=\"white-space:pre;overflow-x:auto;line-height:normal;font-family:Menlo,'DejaVu Sans Mono',consolas,'Courier New',monospace\">Avg Test loss: <span style=\"color: #000080; text-decoration-color: #000080\">3.4389</span> Avg Test Acc: <span style=\"color: #008000; text-decoration-color: #008000\">70.6</span>\n",
              "</pre>\n"
            ]
          },
          "metadata": {}
        },
        {
          "output_type": "display_data",
          "data": {
            "text/plain": [
              "Epoch \u001b[33m45/50\u001b[0m Training: "
            ],
            "text/html": [
              "<pre style=\"white-space:pre;overflow-x:auto;line-height:normal;font-family:Menlo,'DejaVu Sans Mono',consolas,'Courier New',monospace\">Epoch <span style=\"color: #808000; text-decoration-color: #808000\">45/50</span> Training: </pre>\n"
            ]
          },
          "metadata": {}
        },
        {
          "output_type": "stream",
          "name": "stderr",
          "text": [
            "100%|██████████| 12501/12501 [00:39<00:00, 313.99it/s]\n"
          ]
        },
        {
          "output_type": "display_data",
          "data": {
            "text/plain": [
              "Avg Training loss: \u001b[34m0.2124\u001b[0m Avg Training Acc: \u001b[32m94.7\u001b[0m Testing:"
            ],
            "text/html": [
              "<pre style=\"white-space:pre;overflow-x:auto;line-height:normal;font-family:Menlo,'DejaVu Sans Mono',consolas,'Courier New',monospace\">Avg Training loss: <span style=\"color: #000080; text-decoration-color: #000080\">0.2124</span> Avg Training Acc: <span style=\"color: #008000; text-decoration-color: #008000\">94.7</span> Testing:</pre>\n"
            ]
          },
          "metadata": {}
        },
        {
          "output_type": "display_data",
          "data": {
            "text/plain": [
              "Avg Test loss: \u001b[34m3.5040\u001b[0m Avg Test Acc: \u001b[32m70.3\u001b[0m\n"
            ],
            "text/html": [
              "<pre style=\"white-space:pre;overflow-x:auto;line-height:normal;font-family:Menlo,'DejaVu Sans Mono',consolas,'Courier New',monospace\">Avg Test loss: <span style=\"color: #000080; text-decoration-color: #000080\">3.5040</span> Avg Test Acc: <span style=\"color: #008000; text-decoration-color: #008000\">70.3</span>\n",
              "</pre>\n"
            ]
          },
          "metadata": {}
        },
        {
          "output_type": "display_data",
          "data": {
            "text/plain": [
              "Epoch \u001b[33m46/50\u001b[0m Training: "
            ],
            "text/html": [
              "<pre style=\"white-space:pre;overflow-x:auto;line-height:normal;font-family:Menlo,'DejaVu Sans Mono',consolas,'Courier New',monospace\">Epoch <span style=\"color: #808000; text-decoration-color: #808000\">46/50</span> Training: </pre>\n"
            ]
          },
          "metadata": {}
        },
        {
          "output_type": "stream",
          "name": "stderr",
          "text": [
            "100%|██████████| 12501/12501 [00:39<00:00, 316.24it/s]\n"
          ]
        },
        {
          "output_type": "display_data",
          "data": {
            "text/plain": [
              "Avg Training loss: \u001b[34m0.2131\u001b[0m Avg Training Acc: \u001b[32m94.8\u001b[0m Testing:"
            ],
            "text/html": [
              "<pre style=\"white-space:pre;overflow-x:auto;line-height:normal;font-family:Menlo,'DejaVu Sans Mono',consolas,'Courier New',monospace\">Avg Training loss: <span style=\"color: #000080; text-decoration-color: #000080\">0.2131</span> Avg Training Acc: <span style=\"color: #008000; text-decoration-color: #008000\">94.8</span> Testing:</pre>\n"
            ]
          },
          "metadata": {}
        },
        {
          "output_type": "display_data",
          "data": {
            "text/plain": [
              "Avg Test loss: \u001b[34m3.5809\u001b[0m Avg Test Acc: \u001b[32m70.4\u001b[0m\n"
            ],
            "text/html": [
              "<pre style=\"white-space:pre;overflow-x:auto;line-height:normal;font-family:Menlo,'DejaVu Sans Mono',consolas,'Courier New',monospace\">Avg Test loss: <span style=\"color: #000080; text-decoration-color: #000080\">3.5809</span> Avg Test Acc: <span style=\"color: #008000; text-decoration-color: #008000\">70.4</span>\n",
              "</pre>\n"
            ]
          },
          "metadata": {}
        },
        {
          "output_type": "display_data",
          "data": {
            "text/plain": [
              "Epoch \u001b[33m47/50\u001b[0m Training: "
            ],
            "text/html": [
              "<pre style=\"white-space:pre;overflow-x:auto;line-height:normal;font-family:Menlo,'DejaVu Sans Mono',consolas,'Courier New',monospace\">Epoch <span style=\"color: #808000; text-decoration-color: #808000\">47/50</span> Training: </pre>\n"
            ]
          },
          "metadata": {}
        },
        {
          "output_type": "stream",
          "name": "stderr",
          "text": [
            "100%|██████████| 12501/12501 [00:39<00:00, 317.22it/s]\n"
          ]
        },
        {
          "output_type": "display_data",
          "data": {
            "text/plain": [
              "Avg Training loss: \u001b[34m0.2118\u001b[0m Avg Training Acc: \u001b[32m94.8\u001b[0m Testing:"
            ],
            "text/html": [
              "<pre style=\"white-space:pre;overflow-x:auto;line-height:normal;font-family:Menlo,'DejaVu Sans Mono',consolas,'Courier New',monospace\">Avg Training loss: <span style=\"color: #000080; text-decoration-color: #000080\">0.2118</span> Avg Training Acc: <span style=\"color: #008000; text-decoration-color: #008000\">94.8</span> Testing:</pre>\n"
            ]
          },
          "metadata": {}
        },
        {
          "output_type": "display_data",
          "data": {
            "text/plain": [
              "Avg Test loss: \u001b[34m3.6315\u001b[0m Avg Test Acc: \u001b[32m70.2\u001b[0m\n"
            ],
            "text/html": [
              "<pre style=\"white-space:pre;overflow-x:auto;line-height:normal;font-family:Menlo,'DejaVu Sans Mono',consolas,'Courier New',monospace\">Avg Test loss: <span style=\"color: #000080; text-decoration-color: #000080\">3.6315</span> Avg Test Acc: <span style=\"color: #008000; text-decoration-color: #008000\">70.2</span>\n",
              "</pre>\n"
            ]
          },
          "metadata": {}
        },
        {
          "output_type": "display_data",
          "data": {
            "text/plain": [
              "Epoch \u001b[33m48/50\u001b[0m Training: "
            ],
            "text/html": [
              "<pre style=\"white-space:pre;overflow-x:auto;line-height:normal;font-family:Menlo,'DejaVu Sans Mono',consolas,'Courier New',monospace\">Epoch <span style=\"color: #808000; text-decoration-color: #808000\">48/50</span> Training: </pre>\n"
            ]
          },
          "metadata": {}
        },
        {
          "output_type": "stream",
          "name": "stderr",
          "text": [
            "100%|██████████| 12501/12501 [00:39<00:00, 314.46it/s]\n"
          ]
        },
        {
          "output_type": "display_data",
          "data": {
            "text/plain": [
              "Avg Training loss: \u001b[34m0.2113\u001b[0m Avg Training Acc: \u001b[32m95.0\u001b[0m Testing:"
            ],
            "text/html": [
              "<pre style=\"white-space:pre;overflow-x:auto;line-height:normal;font-family:Menlo,'DejaVu Sans Mono',consolas,'Courier New',monospace\">Avg Training loss: <span style=\"color: #000080; text-decoration-color: #000080\">0.2113</span> Avg Training Acc: <span style=\"color: #008000; text-decoration-color: #008000\">95.0</span> Testing:</pre>\n"
            ]
          },
          "metadata": {}
        },
        {
          "output_type": "display_data",
          "data": {
            "text/plain": [
              "Avg Test loss: \u001b[34m3.6929\u001b[0m Avg Test Acc: \u001b[32m70.4\u001b[0m\n"
            ],
            "text/html": [
              "<pre style=\"white-space:pre;overflow-x:auto;line-height:normal;font-family:Menlo,'DejaVu Sans Mono',consolas,'Courier New',monospace\">Avg Test loss: <span style=\"color: #000080; text-decoration-color: #000080\">3.6929</span> Avg Test Acc: <span style=\"color: #008000; text-decoration-color: #008000\">70.4</span>\n",
              "</pre>\n"
            ]
          },
          "metadata": {}
        },
        {
          "output_type": "display_data",
          "data": {
            "text/plain": [
              "Epoch \u001b[33m49/50\u001b[0m Training: "
            ],
            "text/html": [
              "<pre style=\"white-space:pre;overflow-x:auto;line-height:normal;font-family:Menlo,'DejaVu Sans Mono',consolas,'Courier New',monospace\">Epoch <span style=\"color: #808000; text-decoration-color: #808000\">49/50</span> Training: </pre>\n"
            ]
          },
          "metadata": {}
        },
        {
          "output_type": "stream",
          "name": "stderr",
          "text": [
            "100%|██████████| 12501/12501 [00:39<00:00, 316.51it/s]\n"
          ]
        },
        {
          "output_type": "display_data",
          "data": {
            "text/plain": [
              "Avg Training loss: \u001b[34m0.2094\u001b[0m Avg Training Acc: \u001b[32m95.0\u001b[0m Testing:"
            ],
            "text/html": [
              "<pre style=\"white-space:pre;overflow-x:auto;line-height:normal;font-family:Menlo,'DejaVu Sans Mono',consolas,'Courier New',monospace\">Avg Training loss: <span style=\"color: #000080; text-decoration-color: #000080\">0.2094</span> Avg Training Acc: <span style=\"color: #008000; text-decoration-color: #008000\">95.0</span> Testing:</pre>\n"
            ]
          },
          "metadata": {}
        },
        {
          "output_type": "display_data",
          "data": {
            "text/plain": [
              "Avg Test loss: \u001b[34m3.8393\u001b[0m Avg Test Acc: \u001b[32m70.6\u001b[0m\n"
            ],
            "text/html": [
              "<pre style=\"white-space:pre;overflow-x:auto;line-height:normal;font-family:Menlo,'DejaVu Sans Mono',consolas,'Courier New',monospace\">Avg Test loss: <span style=\"color: #000080; text-decoration-color: #000080\">3.8393</span> Avg Test Acc: <span style=\"color: #008000; text-decoration-color: #008000\">70.6</span>\n",
              "</pre>\n"
            ]
          },
          "metadata": {}
        },
        {
          "output_type": "display_data",
          "data": {
            "text/plain": [
              "Epoch \u001b[33m50/50\u001b[0m Training: "
            ],
            "text/html": [
              "<pre style=\"white-space:pre;overflow-x:auto;line-height:normal;font-family:Menlo,'DejaVu Sans Mono',consolas,'Courier New',monospace\">Epoch <span style=\"color: #808000; text-decoration-color: #808000\">50/50</span> Training: </pre>\n"
            ]
          },
          "metadata": {}
        },
        {
          "output_type": "stream",
          "name": "stderr",
          "text": [
            "100%|██████████| 12501/12501 [00:38<00:00, 321.36it/s]\n"
          ]
        },
        {
          "output_type": "display_data",
          "data": {
            "text/plain": [
              "Avg Training loss: \u001b[34m0.2071\u001b[0m Avg Training Acc: \u001b[32m95.1\u001b[0m Testing:"
            ],
            "text/html": [
              "<pre style=\"white-space:pre;overflow-x:auto;line-height:normal;font-family:Menlo,'DejaVu Sans Mono',consolas,'Courier New',monospace\">Avg Training loss: <span style=\"color: #000080; text-decoration-color: #000080\">0.2071</span> Avg Training Acc: <span style=\"color: #008000; text-decoration-color: #008000\">95.1</span> Testing:</pre>\n"
            ]
          },
          "metadata": {}
        },
        {
          "output_type": "display_data",
          "data": {
            "text/plain": [
              "Avg Test loss: \u001b[34m3.8314\u001b[0m Avg Test Acc: \u001b[32m70.5\u001b[0m\n"
            ],
            "text/html": [
              "<pre style=\"white-space:pre;overflow-x:auto;line-height:normal;font-family:Menlo,'DejaVu Sans Mono',consolas,'Courier New',monospace\">Avg Test loss: <span style=\"color: #000080; text-decoration-color: #000080\">3.8314</span> Avg Test Acc: <span style=\"color: #008000; text-decoration-color: #008000\">70.5</span>\n",
              "</pre>\n"
            ]
          },
          "metadata": {}
        },
        {
          "output_type": "display_data",
          "data": {
            "text/plain": [
              "<Figure size 640x480 with 1 Axes>"
            ],
            "image/png": "[encoded data removed]"
          },
          "metadata": {}
        },
        {
          "output_type": "display_data",
          "data": {
            "text/plain": [
              "<Figure size 640x480 with 1 Axes>"
            ],
            "image/png": "[encoded data removed]"
          },
          "metadata": {}
        }
      ]
    },
    {
      "cell_type": "code",
      "source": [],
      "metadata": {
        "id": "DTbh-BrvH_Jc"
      },
      "execution_count": null,
      "outputs": []
    }
  ]
}