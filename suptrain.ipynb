{
  "nbformat": 4,
  "nbformat_minor": 0,
  "metadata": {
    "colab": {
      "provenance": [],
      "gpuType": "T4",
      "authorship_tag": "ABX9TyOaXYR7E8jdjK96/GdJSXHJ",
      "include_colab_link": true
    },
    "kernelspec": {
      "name": "python3",
      "display_name": "Python 3"
    },
    "language_info": {
      "name": "python"
    },
    "accelerator": "GPU"
  },
  "cells": [
    {
      "cell_type": "markdown",
      "metadata": {
        "id": "view-in-github",
        "colab_type": "text"
      },
      "source": [
        "<a href=\"https://colab.research.google.com/github/gvogiatzis/trafficsim/blob/main/suptrain.ipynb\" target=\"_parent\"><img src=\"https://colab.research.google.com/assets/colab-badge.svg\" alt=\"Open In Colab\"/></a>"
      ]
    },
    {
      "cell_type": "code",
      "source": [
        "!git clone https://github.com/gvogiatzis/trafficsim.git"
      ],
      "metadata": {
        "colab": {
          "base_uri": "https://localhost:8080/"
        },
        "id": "fPUBqSGoe9as",
        "outputId": "2060bbaf-de91-47a9-bbc8-2e744f341e75"
      },
      "execution_count": 3,
      "outputs": [
        {
          "output_type": "stream",
          "name": "stdout",
          "text": [
            "Cloning into 'trafficsim'...\n",
            "remote: Enumerating objects: 207, done.\u001b[K\n",
            "remote: Counting objects: 100% (207/207), done.\u001b[K\n",
            "remote: Compressing objects: 100% (103/103), done.\u001b[K\n",
            "remote: Total 207 (delta 116), reused 190 (delta 99), pack-reused 0\u001b[K\n",
            "Receiving objects: 100% (207/207), 65.55 KiB | 5.46 MiB/s, done.\n",
            "Resolving deltas: 100% (116/116), done.\n"
          ]
        }
      ]
    },
    {
      "cell_type": "code",
      "source": [
        "from rl import SupervisedLearningPretrainer"
      ],
      "metadata": {
        "id": "NG_S6iPC_LgG"
      },
      "execution_count": 39,
      "outputs": []
    },
    {
      "cell_type": "code",
      "source": [
        "!wget \"https://7d9c-80-195-93-221.ngrok-free.app/sumo_data/flowmat.txt\""
      ],
      "metadata": {
        "colab": {
          "base_uri": "https://localhost:8080/"
        },
        "id": "s5fjJMaT_Ozm",
        "outputId": "c3f54ab1-1ee8-46cc-a23a-3066b9a0f988"
      },
      "execution_count": 43,
      "outputs": [
        {
          "output_type": "stream",
          "name": "stdout",
          "text": [
            "--2023-07-04 13:01:53--  https://7d9c-80-195-93-221.ngrok-free.app/sumo_data/flowmat.txt\n",
            "Resolving 7d9c-80-195-93-221.ngrok-free.app (7d9c-80-195-93-221.ngrok-free.app)... 3.14.182.203, 3.134.39.220, 3.13.191.225, ...\n",
            "Connecting to 7d9c-80-195-93-221.ngrok-free.app (7d9c-80-195-93-221.ngrok-free.app)|3.14.182.203|:443... connected.\n",
            "HTTP request sent, awaiting response... 200 OK\n",
            "Length: 460800 (450K) [text/plain]\n",
            "Saving to: ‘flowmat.txt’\n",
            "\n",
            "flowmat.txt         100%[===================>] 450.00K   728KB/s    in 0.6s    \n",
            "\n",
            "2023-07-04 13:01:54 (728 KB/s) - ‘flowmat.txt’ saved [460800/460800]\n",
            "\n"
          ]
        }
      ]
    },
    {
      "cell_type": "code",
      "source": [
        "from rl import SupervisedLearningPretrainer\n",
        "\n",
        "import matplotlib.pyplot as plt\n",
        "import torch\n",
        "import tqdm\n",
        "import numpy as np\n",
        "\n",
        "from rl.models import MLPnet, loadModel, saveModel, loadModel_from_dict\n",
        "import matplotlib.pyplot as plt\n",
        "\n",
        "num_epochs = 50\n",
        "network_layers = \"1024x1024\"\n",
        "dataset_size = 10000\n",
        "network_layers = [int(s) for s in network_layers.split(\"x\") if s.isnumeric()]\n",
        "out_model_fname = \"sup_model.pt\"\n",
        "flowmat_fname = \"flowmat.txt\""
      ],
      "metadata": {
        "id": "grrbTw39_hTp"
      },
      "execution_count": 50,
      "outputs": []
    },
    {
      "cell_type": "code",
      "source": [
        "dataset = []\n",
        "W = np.loadtxt(flowmat_fname)\n",
        "\n",
        "output_dim, input_dim = W.shape\n",
        "Wtorch = torch.tensor(W,dtype=torch.float32)\n",
        "print(\"Generating dataset:\")\n",
        "for i in tqdm.tqdm(range(dataset_size)):\n",
        "    x = 50*torch.randn(size=(input_dim,), dtype=torch.float32)\n",
        "    a = np.argsort(Wtorch @ x)\n",
        "    t = a[0]\n",
        "    dataset.append((x, t))\n",
        "model = MLPnet(input_dim,*network_layers,output_dim)\n",
        "trainer = SupervisedLearningPretrainer(dataset, model)\n",
        "\n",
        "stats = trainer.train_epochs(num_epochs)\n",
        "\n",
        "saveModel(model, out_model_fname)\n",
        "plt.figure()\n",
        "plt.title(\"Loss\")\n",
        "plt.plot(stats[\"training_loss_series\"], 'r-')\n",
        "plt.plot(stats[\"test_loss_series\"], 'b-')\n",
        "plt.figure()\n",
        "plt.title(\"Accuracy\")\n",
        "plt.plot(stats[\"training_acc_series\"], 'r-')\n",
        "plt.plot(stats[\"test_acc_series\"], 'b-')\n",
        "plt.show()"
      ],
      "metadata": {
        "colab": {
          "base_uri": "https://localhost:8080/",
          "height": 1000
        },
        "id": "AmNH_OikAY3k",
        "outputId": "24a039db-5491-4109-9ee3-a284d7247a46"
      },
      "execution_count": null,
      "outputs": [
        {
          "output_type": "stream",
          "name": "stdout",
          "text": [
            "Generating dataset:\n"
          ]
        },
        {
          "output_type": "stream",
          "name": "stderr",
          "text": [
            "100%|██████████| 10000/10000 [00:01<00:00, 6273.55it/s]\n"
          ]
        },
        {
          "output_type": "display_data",
          "data": {
            "text/plain": [
              "Epoch \u001b[33m1/50\u001b[0m Training: "
            ],
            "text/html": [
              "<pre style=\"white-space:pre;overflow-x:auto;line-height:normal;font-family:Menlo,'DejaVu Sans Mono',consolas,'Courier New',monospace\">Epoch <span style=\"color: #808000; text-decoration-color: #808000\">1/50</span> Training: </pre>\n"
            ]
          },
          "metadata": {}
        },
        {
          "output_type": "stream",
          "name": "stderr",
          "text": [
            "100%|██████████| 126/126 [00:02<00:00, 53.28it/s]\n"
          ]
        },
        {
          "output_type": "display_data",
          "data": {
            "text/plain": [
              "Avg Training loss: \u001b[34m4.4174\u001b[0m Avg Training Acc: \u001b[32m17.9\u001b[0m Testing:"
            ],
            "text/html": [
              "<pre style=\"white-space:pre;overflow-x:auto;line-height:normal;font-family:Menlo,'DejaVu Sans Mono',consolas,'Courier New',monospace\">Avg Training loss: <span style=\"color: #000080; text-decoration-color: #000080\">4.4174</span> Avg Training Acc: <span style=\"color: #008000; text-decoration-color: #008000\">17.9</span> Testing:</pre>\n"
            ]
          },
          "metadata": {}
        },
        {
          "output_type": "display_data",
          "data": {
            "text/plain": [
              "Avg Test loss: \u001b[34m3.7081\u001b[0m Avg Test Acc: \u001b[32m12.1\u001b[0m\n"
            ],
            "text/html": [
              "<pre style=\"white-space:pre;overflow-x:auto;line-height:normal;font-family:Menlo,'DejaVu Sans Mono',consolas,'Courier New',monospace\">Avg Test loss: <span style=\"color: #000080; text-decoration-color: #000080\">3.7081</span> Avg Test Acc: <span style=\"color: #008000; text-decoration-color: #008000\">12.1</span>\n",
              "</pre>\n"
            ]
          },
          "metadata": {}
        },
        {
          "output_type": "display_data",
          "data": {
            "text/plain": [
              "Epoch \u001b[33m2/50\u001b[0m Training: "
            ],
            "text/html": [
              "<pre style=\"white-space:pre;overflow-x:auto;line-height:normal;font-family:Menlo,'DejaVu Sans Mono',consolas,'Courier New',monospace\">Epoch <span style=\"color: #808000; text-decoration-color: #808000\">2/50</span> Training: </pre>\n"
            ]
          },
          "metadata": {}
        },
        {
          "output_type": "stream",
          "name": "stderr",
          "text": [
            "100%|██████████| 126/126 [00:02<00:00, 60.21it/s]\n"
          ]
        },
        {
          "output_type": "display_data",
          "data": {
            "text/plain": [
              "Avg Training loss: \u001b[34m1.5705\u001b[0m Avg Training Acc: \u001b[32m56.0\u001b[0m Testing:"
            ],
            "text/html": [
              "<pre style=\"white-space:pre;overflow-x:auto;line-height:normal;font-family:Menlo,'DejaVu Sans Mono',consolas,'Courier New',monospace\">Avg Training loss: <span style=\"color: #000080; text-decoration-color: #000080\">1.5705</span> Avg Training Acc: <span style=\"color: #008000; text-decoration-color: #008000\">56.0</span> Testing:</pre>\n"
            ]
          },
          "metadata": {}
        },
        {
          "output_type": "display_data",
          "data": {
            "text/plain": [
              "Avg Test loss: \u001b[34m2.6016\u001b[0m Avg Test Acc: \u001b[32m30.2\u001b[0m\n"
            ],
            "text/html": [
              "<pre style=\"white-space:pre;overflow-x:auto;line-height:normal;font-family:Menlo,'DejaVu Sans Mono',consolas,'Courier New',monospace\">Avg Test loss: <span style=\"color: #000080; text-decoration-color: #000080\">2.6016</span> Avg Test Acc: <span style=\"color: #008000; text-decoration-color: #008000\">30.2</span>\n",
              "</pre>\n"
            ]
          },
          "metadata": {}
        },
        {
          "output_type": "display_data",
          "data": {
            "text/plain": [
              "Epoch \u001b[33m3/50\u001b[0m Training: "
            ],
            "text/html": [
              "<pre style=\"white-space:pre;overflow-x:auto;line-height:normal;font-family:Menlo,'DejaVu Sans Mono',consolas,'Courier New',monospace\">Epoch <span style=\"color: #808000; text-decoration-color: #808000\">3/50</span> Training: </pre>\n"
            ]
          },
          "metadata": {}
        },
        {
          "output_type": "stream",
          "name": "stderr",
          "text": [
            "100%|██████████| 126/126 [00:02<00:00, 60.71it/s]\n"
          ]
        },
        {
          "output_type": "display_data",
          "data": {
            "text/plain": [
              "Avg Training loss: \u001b[34m0.6479\u001b[0m Avg Training Acc: \u001b[32m86.3\u001b[0m Testing:"
            ],
            "text/html": [
              "<pre style=\"white-space:pre;overflow-x:auto;line-height:normal;font-family:Menlo,'DejaVu Sans Mono',consolas,'Courier New',monospace\">Avg Training loss: <span style=\"color: #000080; text-decoration-color: #000080\">0.6479</span> Avg Training Acc: <span style=\"color: #008000; text-decoration-color: #008000\">86.3</span> Testing:</pre>\n"
            ]
          },
          "metadata": {}
        },
        {
          "output_type": "display_data",
          "data": {
            "text/plain": [
              "Avg Test loss: \u001b[34m2.4934\u001b[0m Avg Test Acc: \u001b[32m33.1\u001b[0m\n"
            ],
            "text/html": [
              "<pre style=\"white-space:pre;overflow-x:auto;line-height:normal;font-family:Menlo,'DejaVu Sans Mono',consolas,'Courier New',monospace\">Avg Test loss: <span style=\"color: #000080; text-decoration-color: #000080\">2.4934</span> Avg Test Acc: <span style=\"color: #008000; text-decoration-color: #008000\">33.1</span>\n",
              "</pre>\n"
            ]
          },
          "metadata": {}
        },
        {
          "output_type": "display_data",
          "data": {
            "text/plain": [
              "Epoch \u001b[33m4/50\u001b[0m Training: "
            ],
            "text/html": [
              "<pre style=\"white-space:pre;overflow-x:auto;line-height:normal;font-family:Menlo,'DejaVu Sans Mono',consolas,'Courier New',monospace\">Epoch <span style=\"color: #808000; text-decoration-color: #808000\">4/50</span> Training: </pre>\n"
            ]
          },
          "metadata": {}
        },
        {
          "output_type": "stream",
          "name": "stderr",
          "text": [
            "100%|██████████| 126/126 [00:02<00:00, 59.87it/s]\n"
          ]
        },
        {
          "output_type": "display_data",
          "data": {
            "text/plain": [
              "Avg Training loss: \u001b[34m0.2058\u001b[0m Avg Training Acc: \u001b[32m98.8\u001b[0m Testing:"
            ],
            "text/html": [
              "<pre style=\"white-space:pre;overflow-x:auto;line-height:normal;font-family:Menlo,'DejaVu Sans Mono',consolas,'Courier New',monospace\">Avg Training loss: <span style=\"color: #000080; text-decoration-color: #000080\">0.2058</span> Avg Training Acc: <span style=\"color: #008000; text-decoration-color: #008000\">98.8</span> Testing:</pre>\n"
            ]
          },
          "metadata": {}
        },
        {
          "output_type": "display_data",
          "data": {
            "text/plain": [
              "Avg Test loss: \u001b[34m2.4580\u001b[0m Avg Test Acc: \u001b[32m35.5\u001b[0m\n"
            ],
            "text/html": [
              "<pre style=\"white-space:pre;overflow-x:auto;line-height:normal;font-family:Menlo,'DejaVu Sans Mono',consolas,'Courier New',monospace\">Avg Test loss: <span style=\"color: #000080; text-decoration-color: #000080\">2.4580</span> Avg Test Acc: <span style=\"color: #008000; text-decoration-color: #008000\">35.5</span>\n",
              "</pre>\n"
            ]
          },
          "metadata": {}
        },
        {
          "output_type": "display_data",
          "data": {
            "text/plain": [
              "Epoch \u001b[33m5/50\u001b[0m Training: "
            ],
            "text/html": [
              "<pre style=\"white-space:pre;overflow-x:auto;line-height:normal;font-family:Menlo,'DejaVu Sans Mono',consolas,'Courier New',monospace\">Epoch <span style=\"color: #808000; text-decoration-color: #808000\">5/50</span> Training: </pre>\n"
            ]
          },
          "metadata": {}
        },
        {
          "output_type": "stream",
          "name": "stderr",
          "text": [
            "100%|██████████| 126/126 [00:02<00:00, 44.54it/s]\n"
          ]
        },
        {
          "output_type": "display_data",
          "data": {
            "text/plain": [
              "Avg Training loss: \u001b[34m0.0666\u001b[0m Avg Training Acc: \u001b[32m100.0\u001b[0m Testing:"
            ],
            "text/html": [
              "<pre style=\"white-space:pre;overflow-x:auto;line-height:normal;font-family:Menlo,'DejaVu Sans Mono',consolas,'Courier New',monospace\">Avg Training loss: <span style=\"color: #000080; text-decoration-color: #000080\">0.0666</span> Avg Training Acc: <span style=\"color: #008000; text-decoration-color: #008000\">100.0</span> Testing:</pre>\n"
            ]
          },
          "metadata": {}
        },
        {
          "output_type": "display_data",
          "data": {
            "text/plain": [
              "Avg Test loss: \u001b[34m2.4678\u001b[0m Avg Test Acc: \u001b[32m37.2\u001b[0m\n"
            ],
            "text/html": [
              "<pre style=\"white-space:pre;overflow-x:auto;line-height:normal;font-family:Menlo,'DejaVu Sans Mono',consolas,'Courier New',monospace\">Avg Test loss: <span style=\"color: #000080; text-decoration-color: #000080\">2.4678</span> Avg Test Acc: <span style=\"color: #008000; text-decoration-color: #008000\">37.2</span>\n",
              "</pre>\n"
            ]
          },
          "metadata": {}
        },
        {
          "output_type": "display_data",
          "data": {
            "text/plain": [
              "Epoch \u001b[33m6/50\u001b[0m Training: "
            ],
            "text/html": [
              "<pre style=\"white-space:pre;overflow-x:auto;line-height:normal;font-family:Menlo,'DejaVu Sans Mono',consolas,'Courier New',monospace\">Epoch <span style=\"color: #808000; text-decoration-color: #808000\">6/50</span> Training: </pre>\n"
            ]
          },
          "metadata": {}
        },
        {
          "output_type": "stream",
          "name": "stderr",
          "text": [
            "100%|██████████| 126/126 [00:02<00:00, 52.04it/s]\n"
          ]
        },
        {
          "output_type": "display_data",
          "data": {
            "text/plain": [
              "Avg Training loss: \u001b[34m0.0283\u001b[0m Avg Training Acc: \u001b[32m100.0\u001b[0m Testing:"
            ],
            "text/html": [
              "<pre style=\"white-space:pre;overflow-x:auto;line-height:normal;font-family:Menlo,'DejaVu Sans Mono',consolas,'Courier New',monospace\">Avg Training loss: <span style=\"color: #000080; text-decoration-color: #000080\">0.0283</span> Avg Training Acc: <span style=\"color: #008000; text-decoration-color: #008000\">100.0</span> Testing:</pre>\n"
            ]
          },
          "metadata": {}
        },
        {
          "output_type": "display_data",
          "data": {
            "text/plain": [
              "Avg Test loss: \u001b[34m2.4804\u001b[0m Avg Test Acc: \u001b[32m38.1\u001b[0m\n"
            ],
            "text/html": [
              "<pre style=\"white-space:pre;overflow-x:auto;line-height:normal;font-family:Menlo,'DejaVu Sans Mono',consolas,'Courier New',monospace\">Avg Test loss: <span style=\"color: #000080; text-decoration-color: #000080\">2.4804</span> Avg Test Acc: <span style=\"color: #008000; text-decoration-color: #008000\">38.1</span>\n",
              "</pre>\n"
            ]
          },
          "metadata": {}
        },
        {
          "output_type": "display_data",
          "data": {
            "text/plain": [
              "Epoch \u001b[33m7/50\u001b[0m Training: "
            ],
            "text/html": [
              "<pre style=\"white-space:pre;overflow-x:auto;line-height:normal;font-family:Menlo,'DejaVu Sans Mono',consolas,'Courier New',monospace\">Epoch <span style=\"color: #808000; text-decoration-color: #808000\">7/50</span> Training: </pre>\n"
            ]
          },
          "metadata": {}
        },
        {
          "output_type": "stream",
          "name": "stderr",
          "text": [
            "100%|██████████| 126/126 [00:04<00:00, 25.76it/s]\n"
          ]
        },
        {
          "output_type": "display_data",
          "data": {
            "text/plain": [
              "Avg Training loss: \u001b[34m0.0138\u001b[0m Avg Training Acc: \u001b[32m100.0\u001b[0m Testing:"
            ],
            "text/html": [
              "<pre style=\"white-space:pre;overflow-x:auto;line-height:normal;font-family:Menlo,'DejaVu Sans Mono',consolas,'Courier New',monospace\">Avg Training loss: <span style=\"color: #000080; text-decoration-color: #000080\">0.0138</span> Avg Training Acc: <span style=\"color: #008000; text-decoration-color: #008000\">100.0</span> Testing:</pre>\n"
            ]
          },
          "metadata": {}
        },
        {
          "output_type": "display_data",
          "data": {
            "text/plain": [
              "Avg Test loss: \u001b[34m2.5066\u001b[0m Avg Test Acc: \u001b[32m38.9\u001b[0m\n"
            ],
            "text/html": [
              "<pre style=\"white-space:pre;overflow-x:auto;line-height:normal;font-family:Menlo,'DejaVu Sans Mono',consolas,'Courier New',monospace\">Avg Test loss: <span style=\"color: #000080; text-decoration-color: #000080\">2.5066</span> Avg Test Acc: <span style=\"color: #008000; text-decoration-color: #008000\">38.9</span>\n",
              "</pre>\n"
            ]
          },
          "metadata": {}
        },
        {
          "output_type": "display_data",
          "data": {
            "text/plain": [
              "Epoch \u001b[33m8/50\u001b[0m Training: "
            ],
            "text/html": [
              "<pre style=\"white-space:pre;overflow-x:auto;line-height:normal;font-family:Menlo,'DejaVu Sans Mono',consolas,'Courier New',monospace\">Epoch <span style=\"color: #808000; text-decoration-color: #808000\">8/50</span> Training: </pre>\n"
            ]
          },
          "metadata": {}
        },
        {
          "output_type": "stream",
          "name": "stderr",
          "text": [
            "100%|██████████| 126/126 [00:03<00:00, 38.55it/s]\n"
          ]
        },
        {
          "output_type": "display_data",
          "data": {
            "text/plain": [
              "Avg Training loss: \u001b[34m0.0071\u001b[0m Avg Training Acc: \u001b[32m100.0\u001b[0m Testing:"
            ],
            "text/html": [
              "<pre style=\"white-space:pre;overflow-x:auto;line-height:normal;font-family:Menlo,'DejaVu Sans Mono',consolas,'Courier New',monospace\">Avg Training loss: <span style=\"color: #000080; text-decoration-color: #000080\">0.0071</span> Avg Training Acc: <span style=\"color: #008000; text-decoration-color: #008000\">100.0</span> Testing:</pre>\n"
            ]
          },
          "metadata": {}
        },
        {
          "output_type": "display_data",
          "data": {
            "text/plain": [
              "Avg Test loss: \u001b[34m2.5405\u001b[0m Avg Test Acc: \u001b[32m40.0\u001b[0m\n"
            ],
            "text/html": [
              "<pre style=\"white-space:pre;overflow-x:auto;line-height:normal;font-family:Menlo,'DejaVu Sans Mono',consolas,'Courier New',monospace\">Avg Test loss: <span style=\"color: #000080; text-decoration-color: #000080\">2.5405</span> Avg Test Acc: <span style=\"color: #008000; text-decoration-color: #008000\">40.0</span>\n",
              "</pre>\n"
            ]
          },
          "metadata": {}
        },
        {
          "output_type": "display_data",
          "data": {
            "text/plain": [
              "Epoch \u001b[33m9/50\u001b[0m Training: "
            ],
            "text/html": [
              "<pre style=\"white-space:pre;overflow-x:auto;line-height:normal;font-family:Menlo,'DejaVu Sans Mono',consolas,'Courier New',monospace\">Epoch <span style=\"color: #808000; text-decoration-color: #808000\">9/50</span> Training: </pre>\n"
            ]
          },
          "metadata": {}
        },
        {
          "output_type": "stream",
          "name": "stderr",
          "text": [
            "100%|██████████| 126/126 [00:03<00:00, 38.08it/s]\n"
          ]
        },
        {
          "output_type": "display_data",
          "data": {
            "text/plain": [
              "Avg Training loss: \u001b[34m0.0036\u001b[0m Avg Training Acc: \u001b[32m100.0\u001b[0m Testing:"
            ],
            "text/html": [
              "<pre style=\"white-space:pre;overflow-x:auto;line-height:normal;font-family:Menlo,'DejaVu Sans Mono',consolas,'Courier New',monospace\">Avg Training loss: <span style=\"color: #000080; text-decoration-color: #000080\">0.0036</span> Avg Training Acc: <span style=\"color: #008000; text-decoration-color: #008000\">100.0</span> Testing:</pre>\n"
            ]
          },
          "metadata": {}
        },
        {
          "output_type": "display_data",
          "data": {
            "text/plain": [
              "Avg Test loss: \u001b[34m2.5862\u001b[0m Avg Test Acc: \u001b[32m40.4\u001b[0m\n"
            ],
            "text/html": [
              "<pre style=\"white-space:pre;overflow-x:auto;line-height:normal;font-family:Menlo,'DejaVu Sans Mono',consolas,'Courier New',monospace\">Avg Test loss: <span style=\"color: #000080; text-decoration-color: #000080\">2.5862</span> Avg Test Acc: <span style=\"color: #008000; text-decoration-color: #008000\">40.4</span>\n",
              "</pre>\n"
            ]
          },
          "metadata": {}
        },
        {
          "output_type": "display_data",
          "data": {
            "text/plain": [
              "Epoch \u001b[33m10/50\u001b[0m Training: "
            ],
            "text/html": [
              "<pre style=\"white-space:pre;overflow-x:auto;line-height:normal;font-family:Menlo,'DejaVu Sans Mono',consolas,'Courier New',monospace\">Epoch <span style=\"color: #808000; text-decoration-color: #808000\">10/50</span> Training: </pre>\n"
            ]
          },
          "metadata": {}
        },
        {
          "output_type": "stream",
          "name": "stderr",
          "text": [
            "100%|██████████| 126/126 [00:02<00:00, 61.35it/s]\n"
          ]
        },
        {
          "output_type": "display_data",
          "data": {
            "text/plain": [
              "Avg Training loss: \u001b[34m0.0019\u001b[0m Avg Training Acc: \u001b[32m100.0\u001b[0m Testing:"
            ],
            "text/html": [
              "<pre style=\"white-space:pre;overflow-x:auto;line-height:normal;font-family:Menlo,'DejaVu Sans Mono',consolas,'Courier New',monospace\">Avg Training loss: <span style=\"color: #000080; text-decoration-color: #000080\">0.0019</span> Avg Training Acc: <span style=\"color: #008000; text-decoration-color: #008000\">100.0</span> Testing:</pre>\n"
            ]
          },
          "metadata": {}
        },
        {
          "output_type": "display_data",
          "data": {
            "text/plain": [
              "Avg Test loss: \u001b[34m2.6393\u001b[0m Avg Test Acc: \u001b[32m40.9\u001b[0m\n"
            ],
            "text/html": [
              "<pre style=\"white-space:pre;overflow-x:auto;line-height:normal;font-family:Menlo,'DejaVu Sans Mono',consolas,'Courier New',monospace\">Avg Test loss: <span style=\"color: #000080; text-decoration-color: #000080\">2.6393</span> Avg Test Acc: <span style=\"color: #008000; text-decoration-color: #008000\">40.9</span>\n",
              "</pre>\n"
            ]
          },
          "metadata": {}
        },
        {
          "output_type": "display_data",
          "data": {
            "text/plain": [
              "Epoch \u001b[33m11/50\u001b[0m Training: "
            ],
            "text/html": [
              "<pre style=\"white-space:pre;overflow-x:auto;line-height:normal;font-family:Menlo,'DejaVu Sans Mono',consolas,'Courier New',monospace\">Epoch <span style=\"color: #808000; text-decoration-color: #808000\">11/50</span> Training: </pre>\n"
            ]
          },
          "metadata": {}
        },
        {
          "output_type": "stream",
          "name": "stderr",
          "text": [
            "100%|██████████| 126/126 [00:02<00:00, 59.36it/s]\n"
          ]
        },
        {
          "output_type": "display_data",
          "data": {
            "text/plain": [
              "Avg Training loss: \u001b[34m0.0010\u001b[0m Avg Training Acc: \u001b[32m100.0\u001b[0m Testing:"
            ],
            "text/html": [
              "<pre style=\"white-space:pre;overflow-x:auto;line-height:normal;font-family:Menlo,'DejaVu Sans Mono',consolas,'Courier New',monospace\">Avg Training loss: <span style=\"color: #000080; text-decoration-color: #000080\">0.0010</span> Avg Training Acc: <span style=\"color: #008000; text-decoration-color: #008000\">100.0</span> Testing:</pre>\n"
            ]
          },
          "metadata": {}
        },
        {
          "output_type": "display_data",
          "data": {
            "text/plain": [
              "Avg Test loss: \u001b[34m2.6965\u001b[0m Avg Test Acc: \u001b[32m41.4\u001b[0m\n"
            ],
            "text/html": [
              "<pre style=\"white-space:pre;overflow-x:auto;line-height:normal;font-family:Menlo,'DejaVu Sans Mono',consolas,'Courier New',monospace\">Avg Test loss: <span style=\"color: #000080; text-decoration-color: #000080\">2.6965</span> Avg Test Acc: <span style=\"color: #008000; text-decoration-color: #008000\">41.4</span>\n",
              "</pre>\n"
            ]
          },
          "metadata": {}
        },
        {
          "output_type": "display_data",
          "data": {
            "text/plain": [
              "Epoch \u001b[33m12/50\u001b[0m Training: "
            ],
            "text/html": [
              "<pre style=\"white-space:pre;overflow-x:auto;line-height:normal;font-family:Menlo,'DejaVu Sans Mono',consolas,'Courier New',monospace\">Epoch <span style=\"color: #808000; text-decoration-color: #808000\">12/50</span> Training: </pre>\n"
            ]
          },
          "metadata": {}
        },
        {
          "output_type": "stream",
          "name": "stderr",
          "text": [
            "100%|██████████| 126/126 [00:02<00:00, 59.90it/s]\n"
          ]
        },
        {
          "output_type": "display_data",
          "data": {
            "text/plain": [
              "Avg Training loss: \u001b[34m0.0005\u001b[0m Avg Training Acc: \u001b[32m100.0\u001b[0m Testing:"
            ],
            "text/html": [
              "<pre style=\"white-space:pre;overflow-x:auto;line-height:normal;font-family:Menlo,'DejaVu Sans Mono',consolas,'Courier New',monospace\">Avg Training loss: <span style=\"color: #000080; text-decoration-color: #000080\">0.0005</span> Avg Training Acc: <span style=\"color: #008000; text-decoration-color: #008000\">100.0</span> Testing:</pre>\n"
            ]
          },
          "metadata": {}
        },
        {
          "output_type": "display_data",
          "data": {
            "text/plain": [
              "Avg Test loss: \u001b[34m2.7611\u001b[0m Avg Test Acc: \u001b[32m41.6\u001b[0m\n"
            ],
            "text/html": [
              "<pre style=\"white-space:pre;overflow-x:auto;line-height:normal;font-family:Menlo,'DejaVu Sans Mono',consolas,'Courier New',monospace\">Avg Test loss: <span style=\"color: #000080; text-decoration-color: #000080\">2.7611</span> Avg Test Acc: <span style=\"color: #008000; text-decoration-color: #008000\">41.6</span>\n",
              "</pre>\n"
            ]
          },
          "metadata": {}
        },
        {
          "output_type": "display_data",
          "data": {
            "text/plain": [
              "Epoch \u001b[33m13/50\u001b[0m Training: "
            ],
            "text/html": [
              "<pre style=\"white-space:pre;overflow-x:auto;line-height:normal;font-family:Menlo,'DejaVu Sans Mono',consolas,'Courier New',monospace\">Epoch <span style=\"color: #808000; text-decoration-color: #808000\">13/50</span> Training: </pre>\n"
            ]
          },
          "metadata": {}
        },
        {
          "output_type": "stream",
          "name": "stderr",
          "text": [
            "100%|██████████| 126/126 [00:02<00:00, 52.72it/s]\n"
          ]
        },
        {
          "output_type": "display_data",
          "data": {
            "text/plain": [
              "Avg Training loss: \u001b[34m0.0003\u001b[0m Avg Training Acc: \u001b[32m100.0\u001b[0m Testing:"
            ],
            "text/html": [
              "<pre style=\"white-space:pre;overflow-x:auto;line-height:normal;font-family:Menlo,'DejaVu Sans Mono',consolas,'Courier New',monospace\">Avg Training loss: <span style=\"color: #000080; text-decoration-color: #000080\">0.0003</span> Avg Training Acc: <span style=\"color: #008000; text-decoration-color: #008000\">100.0</span> Testing:</pre>\n"
            ]
          },
          "metadata": {}
        },
        {
          "output_type": "display_data",
          "data": {
            "text/plain": [
              "Avg Test loss: \u001b[34m2.8300\u001b[0m Avg Test Acc: \u001b[32m41.7\u001b[0m\n"
            ],
            "text/html": [
              "<pre style=\"white-space:pre;overflow-x:auto;line-height:normal;font-family:Menlo,'DejaVu Sans Mono',consolas,'Courier New',monospace\">Avg Test loss: <span style=\"color: #000080; text-decoration-color: #000080\">2.8300</span> Avg Test Acc: <span style=\"color: #008000; text-decoration-color: #008000\">41.7</span>\n",
              "</pre>\n"
            ]
          },
          "metadata": {}
        },
        {
          "output_type": "display_data",
          "data": {
            "text/plain": [
              "Epoch \u001b[33m14/50\u001b[0m Training: "
            ],
            "text/html": [
              "<pre style=\"white-space:pre;overflow-x:auto;line-height:normal;font-family:Menlo,'DejaVu Sans Mono',consolas,'Courier New',monospace\">Epoch <span style=\"color: #808000; text-decoration-color: #808000\">14/50</span> Training: </pre>\n"
            ]
          },
          "metadata": {}
        },
        {
          "output_type": "stream",
          "name": "stderr",
          "text": [
            "100%|██████████| 126/126 [00:03<00:00, 34.87it/s]\n"
          ]
        },
        {
          "output_type": "display_data",
          "data": {
            "text/plain": [
              "Avg Training loss: \u001b[34m0.0001\u001b[0m Avg Training Acc: \u001b[32m100.0\u001b[0m Testing:"
            ],
            "text/html": [
              "<pre style=\"white-space:pre;overflow-x:auto;line-height:normal;font-family:Menlo,'DejaVu Sans Mono',consolas,'Courier New',monospace\">Avg Training loss: <span style=\"color: #000080; text-decoration-color: #000080\">0.0001</span> Avg Training Acc: <span style=\"color: #008000; text-decoration-color: #008000\">100.0</span> Testing:</pre>\n"
            ]
          },
          "metadata": {}
        },
        {
          "output_type": "display_data",
          "data": {
            "text/plain": [
              "Avg Test loss: \u001b[34m2.9031\u001b[0m Avg Test Acc: \u001b[32m42.1\u001b[0m\n"
            ],
            "text/html": [
              "<pre style=\"white-space:pre;overflow-x:auto;line-height:normal;font-family:Menlo,'DejaVu Sans Mono',consolas,'Courier New',monospace\">Avg Test loss: <span style=\"color: #000080; text-decoration-color: #000080\">2.9031</span> Avg Test Acc: <span style=\"color: #008000; text-decoration-color: #008000\">42.1</span>\n",
              "</pre>\n"
            ]
          },
          "metadata": {}
        },
        {
          "output_type": "display_data",
          "data": {
            "text/plain": [
              "Epoch \u001b[33m15/50\u001b[0m Training: "
            ],
            "text/html": [
              "<pre style=\"white-space:pre;overflow-x:auto;line-height:normal;font-family:Menlo,'DejaVu Sans Mono',consolas,'Courier New',monospace\">Epoch <span style=\"color: #808000; text-decoration-color: #808000\">15/50</span> Training: </pre>\n"
            ]
          },
          "metadata": {}
        },
        {
          "output_type": "stream",
          "name": "stderr",
          "text": [
            "100%|██████████| 126/126 [00:02<00:00, 61.13it/s]\n"
          ]
        },
        {
          "output_type": "display_data",
          "data": {
            "text/plain": [
              "Avg Training loss: \u001b[34m0.0001\u001b[0m Avg Training Acc: \u001b[32m100.0\u001b[0m Testing:"
            ],
            "text/html": [
              "<pre style=\"white-space:pre;overflow-x:auto;line-height:normal;font-family:Menlo,'DejaVu Sans Mono',consolas,'Courier New',monospace\">Avg Training loss: <span style=\"color: #000080; text-decoration-color: #000080\">0.0001</span> Avg Training Acc: <span style=\"color: #008000; text-decoration-color: #008000\">100.0</span> Testing:</pre>\n"
            ]
          },
          "metadata": {}
        },
        {
          "output_type": "display_data",
          "data": {
            "text/plain": [
              "Avg Test loss: \u001b[34m2.9779\u001b[0m Avg Test Acc: \u001b[32m42.4\u001b[0m\n"
            ],
            "text/html": [
              "<pre style=\"white-space:pre;overflow-x:auto;line-height:normal;font-family:Menlo,'DejaVu Sans Mono',consolas,'Courier New',monospace\">Avg Test loss: <span style=\"color: #000080; text-decoration-color: #000080\">2.9779</span> Avg Test Acc: <span style=\"color: #008000; text-decoration-color: #008000\">42.4</span>\n",
              "</pre>\n"
            ]
          },
          "metadata": {}
        },
        {
          "output_type": "display_data",
          "data": {
            "text/plain": [
              "Epoch \u001b[33m16/50\u001b[0m Training: "
            ],
            "text/html": [
              "<pre style=\"white-space:pre;overflow-x:auto;line-height:normal;font-family:Menlo,'DejaVu Sans Mono',consolas,'Courier New',monospace\">Epoch <span style=\"color: #808000; text-decoration-color: #808000\">16/50</span> Training: </pre>\n"
            ]
          },
          "metadata": {}
        },
        {
          "output_type": "stream",
          "name": "stderr",
          "text": [
            "100%|██████████| 126/126 [00:02<00:00, 61.72it/s]\n"
          ]
        },
        {
          "output_type": "display_data",
          "data": {
            "text/plain": [
              "Avg Training loss: \u001b[34m0.0000\u001b[0m Avg Training Acc: \u001b[32m100.0\u001b[0m Testing:"
            ],
            "text/html": [
              "<pre style=\"white-space:pre;overflow-x:auto;line-height:normal;font-family:Menlo,'DejaVu Sans Mono',consolas,'Courier New',monospace\">Avg Training loss: <span style=\"color: #000080; text-decoration-color: #000080\">0.0000</span> Avg Training Acc: <span style=\"color: #008000; text-decoration-color: #008000\">100.0</span> Testing:</pre>\n"
            ]
          },
          "metadata": {}
        },
        {
          "output_type": "display_data",
          "data": {
            "text/plain": [
              "Avg Test loss: \u001b[34m3.0547\u001b[0m Avg Test Acc: \u001b[32m42.6\u001b[0m\n"
            ],
            "text/html": [
              "<pre style=\"white-space:pre;overflow-x:auto;line-height:normal;font-family:Menlo,'DejaVu Sans Mono',consolas,'Courier New',monospace\">Avg Test loss: <span style=\"color: #000080; text-decoration-color: #000080\">3.0547</span> Avg Test Acc: <span style=\"color: #008000; text-decoration-color: #008000\">42.6</span>\n",
              "</pre>\n"
            ]
          },
          "metadata": {}
        },
        {
          "output_type": "display_data",
          "data": {
            "text/plain": [
              "Epoch \u001b[33m17/50\u001b[0m Training: "
            ],
            "text/html": [
              "<pre style=\"white-space:pre;overflow-x:auto;line-height:normal;font-family:Menlo,'DejaVu Sans Mono',consolas,'Courier New',monospace\">Epoch <span style=\"color: #808000; text-decoration-color: #808000\">17/50</span> Training: </pre>\n"
            ]
          },
          "metadata": {}
        },
        {
          "output_type": "stream",
          "name": "stderr",
          "text": [
            "100%|██████████| 126/126 [00:02<00:00, 60.67it/s]\n"
          ]
        },
        {
          "output_type": "display_data",
          "data": {
            "text/plain": [
              "Avg Training loss: \u001b[34m0.0000\u001b[0m Avg Training Acc: \u001b[32m100.0\u001b[0m Testing:"
            ],
            "text/html": [
              "<pre style=\"white-space:pre;overflow-x:auto;line-height:normal;font-family:Menlo,'DejaVu Sans Mono',consolas,'Courier New',monospace\">Avg Training loss: <span style=\"color: #000080; text-decoration-color: #000080\">0.0000</span> Avg Training Acc: <span style=\"color: #008000; text-decoration-color: #008000\">100.0</span> Testing:</pre>\n"
            ]
          },
          "metadata": {}
        },
        {
          "output_type": "display_data",
          "data": {
            "text/plain": [
              "Avg Test loss: \u001b[34m3.1339\u001b[0m Avg Test Acc: \u001b[32m42.9\u001b[0m\n"
            ],
            "text/html": [
              "<pre style=\"white-space:pre;overflow-x:auto;line-height:normal;font-family:Menlo,'DejaVu Sans Mono',consolas,'Courier New',monospace\">Avg Test loss: <span style=\"color: #000080; text-decoration-color: #000080\">3.1339</span> Avg Test Acc: <span style=\"color: #008000; text-decoration-color: #008000\">42.9</span>\n",
              "</pre>\n"
            ]
          },
          "metadata": {}
        },
        {
          "output_type": "display_data",
          "data": {
            "text/plain": [
              "Epoch \u001b[33m18/50\u001b[0m Training: "
            ],
            "text/html": [
              "<pre style=\"white-space:pre;overflow-x:auto;line-height:normal;font-family:Menlo,'DejaVu Sans Mono',consolas,'Courier New',monospace\">Epoch <span style=\"color: #808000; text-decoration-color: #808000\">18/50</span> Training: </pre>\n"
            ]
          },
          "metadata": {}
        },
        {
          "output_type": "stream",
          "name": "stderr",
          "text": [
            "100%|██████████| 126/126 [00:02<00:00, 54.59it/s]\n"
          ]
        },
        {
          "output_type": "display_data",
          "data": {
            "text/plain": [
              "Avg Training loss: \u001b[34m0.0000\u001b[0m Avg Training Acc: \u001b[32m100.0\u001b[0m Testing:"
            ],
            "text/html": [
              "<pre style=\"white-space:pre;overflow-x:auto;line-height:normal;font-family:Menlo,'DejaVu Sans Mono',consolas,'Courier New',monospace\">Avg Training loss: <span style=\"color: #000080; text-decoration-color: #000080\">0.0000</span> Avg Training Acc: <span style=\"color: #008000; text-decoration-color: #008000\">100.0</span> Testing:</pre>\n"
            ]
          },
          "metadata": {}
        },
        {
          "output_type": "display_data",
          "data": {
            "text/plain": [
              "Avg Test loss: \u001b[34m3.2161\u001b[0m Avg Test Acc: \u001b[32m42.9\u001b[0m\n"
            ],
            "text/html": [
              "<pre style=\"white-space:pre;overflow-x:auto;line-height:normal;font-family:Menlo,'DejaVu Sans Mono',consolas,'Courier New',monospace\">Avg Test loss: <span style=\"color: #000080; text-decoration-color: #000080\">3.2161</span> Avg Test Acc: <span style=\"color: #008000; text-decoration-color: #008000\">42.9</span>\n",
              "</pre>\n"
            ]
          },
          "metadata": {}
        },
        {
          "output_type": "display_data",
          "data": {
            "text/plain": [
              "Epoch \u001b[33m19/50\u001b[0m Training: "
            ],
            "text/html": [
              "<pre style=\"white-space:pre;overflow-x:auto;line-height:normal;font-family:Menlo,'DejaVu Sans Mono',consolas,'Courier New',monospace\">Epoch <span style=\"color: #808000; text-decoration-color: #808000\">19/50</span> Training: </pre>\n"
            ]
          },
          "metadata": {}
        },
        {
          "output_type": "stream",
          "name": "stderr",
          "text": [
            "100%|██████████| 126/126 [00:02<00:00, 44.43it/s]\n"
          ]
        },
        {
          "output_type": "display_data",
          "data": {
            "text/plain": [
              "Avg Training loss: \u001b[34m0.0000\u001b[0m Avg Training Acc: \u001b[32m100.0\u001b[0m Testing:"
            ],
            "text/html": [
              "<pre style=\"white-space:pre;overflow-x:auto;line-height:normal;font-family:Menlo,'DejaVu Sans Mono',consolas,'Courier New',monospace\">Avg Training loss: <span style=\"color: #000080; text-decoration-color: #000080\">0.0000</span> Avg Training Acc: <span style=\"color: #008000; text-decoration-color: #008000\">100.0</span> Testing:</pre>\n"
            ]
          },
          "metadata": {}
        },
        {
          "output_type": "display_data",
          "data": {
            "text/plain": [
              "Avg Test loss: \u001b[34m3.2962\u001b[0m Avg Test Acc: \u001b[32m43.1\u001b[0m\n"
            ],
            "text/html": [
              "<pre style=\"white-space:pre;overflow-x:auto;line-height:normal;font-family:Menlo,'DejaVu Sans Mono',consolas,'Courier New',monospace\">Avg Test loss: <span style=\"color: #000080; text-decoration-color: #000080\">3.2962</span> Avg Test Acc: <span style=\"color: #008000; text-decoration-color: #008000\">43.1</span>\n",
              "</pre>\n"
            ]
          },
          "metadata": {}
        },
        {
          "output_type": "display_data",
          "data": {
            "text/plain": [
              "Epoch \u001b[33m20/50\u001b[0m Training: "
            ],
            "text/html": [
              "<pre style=\"white-space:pre;overflow-x:auto;line-height:normal;font-family:Menlo,'DejaVu Sans Mono',consolas,'Courier New',monospace\">Epoch <span style=\"color: #808000; text-decoration-color: #808000\">20/50</span> Training: </pre>\n"
            ]
          },
          "metadata": {}
        },
        {
          "output_type": "stream",
          "name": "stderr",
          "text": [
            "100%|██████████| 126/126 [00:02<00:00, 60.44it/s]\n"
          ]
        },
        {
          "output_type": "display_data",
          "data": {
            "text/plain": [
              "Avg Training loss: \u001b[34m0.0000\u001b[0m Avg Training Acc: \u001b[32m100.0\u001b[0m Testing:"
            ],
            "text/html": [
              "<pre style=\"white-space:pre;overflow-x:auto;line-height:normal;font-family:Menlo,'DejaVu Sans Mono',consolas,'Courier New',monospace\">Avg Training loss: <span style=\"color: #000080; text-decoration-color: #000080\">0.0000</span> Avg Training Acc: <span style=\"color: #008000; text-decoration-color: #008000\">100.0</span> Testing:</pre>\n"
            ]
          },
          "metadata": {}
        },
        {
          "output_type": "display_data",
          "data": {
            "text/plain": [
              "Avg Test loss: \u001b[34m3.3828\u001b[0m Avg Test Acc: \u001b[32m43.6\u001b[0m\n"
            ],
            "text/html": [
              "<pre style=\"white-space:pre;overflow-x:auto;line-height:normal;font-family:Menlo,'DejaVu Sans Mono',consolas,'Courier New',monospace\">Avg Test loss: <span style=\"color: #000080; text-decoration-color: #000080\">3.3828</span> Avg Test Acc: <span style=\"color: #008000; text-decoration-color: #008000\">43.6</span>\n",
              "</pre>\n"
            ]
          },
          "metadata": {}
        },
        {
          "output_type": "display_data",
          "data": {
            "text/plain": [
              "Epoch \u001b[33m21/50\u001b[0m Training: "
            ],
            "text/html": [
              "<pre style=\"white-space:pre;overflow-x:auto;line-height:normal;font-family:Menlo,'DejaVu Sans Mono',consolas,'Courier New',monospace\">Epoch <span style=\"color: #808000; text-decoration-color: #808000\">21/50</span> Training: </pre>\n"
            ]
          },
          "metadata": {}
        },
        {
          "output_type": "stream",
          "name": "stderr",
          "text": [
            "100%|██████████| 126/126 [00:02<00:00, 57.84it/s]\n"
          ]
        },
        {
          "output_type": "display_data",
          "data": {
            "text/plain": [
              "Avg Training loss: \u001b[34m0.0000\u001b[0m Avg Training Acc: \u001b[32m100.0\u001b[0m Testing:"
            ],
            "text/html": [
              "<pre style=\"white-space:pre;overflow-x:auto;line-height:normal;font-family:Menlo,'DejaVu Sans Mono',consolas,'Courier New',monospace\">Avg Training loss: <span style=\"color: #000080; text-decoration-color: #000080\">0.0000</span> Avg Training Acc: <span style=\"color: #008000; text-decoration-color: #008000\">100.0</span> Testing:</pre>\n"
            ]
          },
          "metadata": {}
        },
        {
          "output_type": "display_data",
          "data": {
            "text/plain": [
              "Avg Test loss: \u001b[34m3.4637\u001b[0m Avg Test Acc: \u001b[32m43.8\u001b[0m\n"
            ],
            "text/html": [
              "<pre style=\"white-space:pre;overflow-x:auto;line-height:normal;font-family:Menlo,'DejaVu Sans Mono',consolas,'Courier New',monospace\">Avg Test loss: <span style=\"color: #000080; text-decoration-color: #000080\">3.4637</span> Avg Test Acc: <span style=\"color: #008000; text-decoration-color: #008000\">43.8</span>\n",
              "</pre>\n"
            ]
          },
          "metadata": {}
        },
        {
          "output_type": "display_data",
          "data": {
            "text/plain": [
              "Epoch \u001b[33m22/50\u001b[0m Training: "
            ],
            "text/html": [
              "<pre style=\"white-space:pre;overflow-x:auto;line-height:normal;font-family:Menlo,'DejaVu Sans Mono',consolas,'Courier New',monospace\">Epoch <span style=\"color: #808000; text-decoration-color: #808000\">22/50</span> Training: </pre>\n"
            ]
          },
          "metadata": {}
        },
        {
          "output_type": "stream",
          "name": "stderr",
          "text": [
            "100%|██████████| 126/126 [00:02<00:00, 60.01it/s]\n"
          ]
        },
        {
          "output_type": "display_data",
          "data": {
            "text/plain": [
              "Avg Training loss: \u001b[34m0.0000\u001b[0m Avg Training Acc: \u001b[32m100.0\u001b[0m Testing:"
            ],
            "text/html": [
              "<pre style=\"white-space:pre;overflow-x:auto;line-height:normal;font-family:Menlo,'DejaVu Sans Mono',consolas,'Courier New',monospace\">Avg Training loss: <span style=\"color: #000080; text-decoration-color: #000080\">0.0000</span> Avg Training Acc: <span style=\"color: #008000; text-decoration-color: #008000\">100.0</span> Testing:</pre>\n"
            ]
          },
          "metadata": {}
        },
        {
          "output_type": "display_data",
          "data": {
            "text/plain": [
              "Avg Test loss: \u001b[34m3.5484\u001b[0m Avg Test Acc: \u001b[32m44.1\u001b[0m\n"
            ],
            "text/html": [
              "<pre style=\"white-space:pre;overflow-x:auto;line-height:normal;font-family:Menlo,'DejaVu Sans Mono',consolas,'Courier New',monospace\">Avg Test loss: <span style=\"color: #000080; text-decoration-color: #000080\">3.5484</span> Avg Test Acc: <span style=\"color: #008000; text-decoration-color: #008000\">44.1</span>\n",
              "</pre>\n"
            ]
          },
          "metadata": {}
        },
        {
          "output_type": "display_data",
          "data": {
            "text/plain": [
              "Epoch \u001b[33m23/50\u001b[0m Training: "
            ],
            "text/html": [
              "<pre style=\"white-space:pre;overflow-x:auto;line-height:normal;font-family:Menlo,'DejaVu Sans Mono',consolas,'Courier New',monospace\">Epoch <span style=\"color: #808000; text-decoration-color: #808000\">23/50</span> Training: </pre>\n"
            ]
          },
          "metadata": {}
        },
        {
          "output_type": "stream",
          "name": "stderr",
          "text": [
            "100%|██████████| 126/126 [00:02<00:00, 57.78it/s]\n"
          ]
        },
        {
          "output_type": "display_data",
          "data": {
            "text/plain": [
              "Avg Training loss: \u001b[34m0.0000\u001b[0m Avg Training Acc: \u001b[32m100.0\u001b[0m Testing:"
            ],
            "text/html": [
              "<pre style=\"white-space:pre;overflow-x:auto;line-height:normal;font-family:Menlo,'DejaVu Sans Mono',consolas,'Courier New',monospace\">Avg Training loss: <span style=\"color: #000080; text-decoration-color: #000080\">0.0000</span> Avg Training Acc: <span style=\"color: #008000; text-decoration-color: #008000\">100.0</span> Testing:</pre>\n"
            ]
          },
          "metadata": {}
        },
        {
          "output_type": "display_data",
          "data": {
            "text/plain": [
              "Avg Test loss: \u001b[34m3.6283\u001b[0m Avg Test Acc: \u001b[32m44.3\u001b[0m\n"
            ],
            "text/html": [
              "<pre style=\"white-space:pre;overflow-x:auto;line-height:normal;font-family:Menlo,'DejaVu Sans Mono',consolas,'Courier New',monospace\">Avg Test loss: <span style=\"color: #000080; text-decoration-color: #000080\">3.6283</span> Avg Test Acc: <span style=\"color: #008000; text-decoration-color: #008000\">44.3</span>\n",
              "</pre>\n"
            ]
          },
          "metadata": {}
        },
        {
          "output_type": "display_data",
          "data": {
            "text/plain": [
              "Epoch \u001b[33m24/50\u001b[0m Training: "
            ],
            "text/html": [
              "<pre style=\"white-space:pre;overflow-x:auto;line-height:normal;font-family:Menlo,'DejaVu Sans Mono',consolas,'Courier New',monospace\">Epoch <span style=\"color: #808000; text-decoration-color: #808000\">24/50</span> Training: </pre>\n"
            ]
          },
          "metadata": {}
        },
        {
          "output_type": "stream",
          "name": "stderr",
          "text": [
            "100%|██████████| 126/126 [00:03<00:00, 41.20it/s]\n"
          ]
        },
        {
          "output_type": "display_data",
          "data": {
            "text/plain": [
              "Avg Training loss: \u001b[34m0.0000\u001b[0m Avg Training Acc: \u001b[32m100.0\u001b[0m Testing:"
            ],
            "text/html": [
              "<pre style=\"white-space:pre;overflow-x:auto;line-height:normal;font-family:Menlo,'DejaVu Sans Mono',consolas,'Courier New',monospace\">Avg Training loss: <span style=\"color: #000080; text-decoration-color: #000080\">0.0000</span> Avg Training Acc: <span style=\"color: #008000; text-decoration-color: #008000\">100.0</span> Testing:</pre>\n"
            ]
          },
          "metadata": {}
        },
        {
          "output_type": "display_data",
          "data": {
            "text/plain": [
              "Avg Test loss: \u001b[34m3.7006\u001b[0m Avg Test Acc: \u001b[32m44.2\u001b[0m\n"
            ],
            "text/html": [
              "<pre style=\"white-space:pre;overflow-x:auto;line-height:normal;font-family:Menlo,'DejaVu Sans Mono',consolas,'Courier New',monospace\">Avg Test loss: <span style=\"color: #000080; text-decoration-color: #000080\">3.7006</span> Avg Test Acc: <span style=\"color: #008000; text-decoration-color: #008000\">44.2</span>\n",
              "</pre>\n"
            ]
          },
          "metadata": {}
        },
        {
          "output_type": "display_data",
          "data": {
            "text/plain": [
              "Epoch \u001b[33m25/50\u001b[0m Training: "
            ],
            "text/html": [
              "<pre style=\"white-space:pre;overflow-x:auto;line-height:normal;font-family:Menlo,'DejaVu Sans Mono',consolas,'Courier New',monospace\">Epoch <span style=\"color: #808000; text-decoration-color: #808000\">25/50</span> Training: </pre>\n"
            ]
          },
          "metadata": {}
        },
        {
          "output_type": "stream",
          "name": "stderr",
          "text": [
            "100%|██████████| 126/126 [00:02<00:00, 58.15it/s]\n"
          ]
        },
        {
          "output_type": "display_data",
          "data": {
            "text/plain": [
              "Avg Training loss: \u001b[34m0.0000\u001b[0m Avg Training Acc: \u001b[32m100.0\u001b[0m Testing:"
            ],
            "text/html": [
              "<pre style=\"white-space:pre;overflow-x:auto;line-height:normal;font-family:Menlo,'DejaVu Sans Mono',consolas,'Courier New',monospace\">Avg Training loss: <span style=\"color: #000080; text-decoration-color: #000080\">0.0000</span> Avg Training Acc: <span style=\"color: #008000; text-decoration-color: #008000\">100.0</span> Testing:</pre>\n"
            ]
          },
          "metadata": {}
        },
        {
          "output_type": "display_data",
          "data": {
            "text/plain": [
              "Avg Test loss: \u001b[34m3.7696\u001b[0m Avg Test Acc: \u001b[32m44.3\u001b[0m\n"
            ],
            "text/html": [
              "<pre style=\"white-space:pre;overflow-x:auto;line-height:normal;font-family:Menlo,'DejaVu Sans Mono',consolas,'Courier New',monospace\">Avg Test loss: <span style=\"color: #000080; text-decoration-color: #000080\">3.7696</span> Avg Test Acc: <span style=\"color: #008000; text-decoration-color: #008000\">44.3</span>\n",
              "</pre>\n"
            ]
          },
          "metadata": {}
        },
        {
          "output_type": "display_data",
          "data": {
            "text/plain": [
              "Epoch \u001b[33m26/50\u001b[0m Training: "
            ],
            "text/html": [
              "<pre style=\"white-space:pre;overflow-x:auto;line-height:normal;font-family:Menlo,'DejaVu Sans Mono',consolas,'Courier New',monospace\">Epoch <span style=\"color: #808000; text-decoration-color: #808000\">26/50</span> Training: </pre>\n"
            ]
          },
          "metadata": {}
        },
        {
          "output_type": "stream",
          "name": "stderr",
          "text": [
            " 56%|█████▋    | 71/126 [00:01<00:00, 59.82it/s]"
          ]
        }
      ]
    },
    {
      "cell_type": "code",
      "source": [],
      "metadata": {
        "id": "1I6ojFPnAcWo"
      },
      "execution_count": null,
      "outputs": []
    }
  ]
}