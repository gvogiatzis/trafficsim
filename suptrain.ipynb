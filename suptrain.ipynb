{
  "cells": [
    {
      "cell_type": "markdown",
      "metadata": {
        "id": "view-in-github",
        "colab_type": "text"
      },
      "source": [
        "<a href=\"https://colab.research.google.com/github/gvogiatzis/trafficsim/blob/main/suptrain.ipynb\" target=\"_parent\"><img src=\"https://colab.research.google.com/assets/colab-badge.svg\" alt=\"Open In Colab\"/></a>"
      ]
    },
    {
      "cell_type": "code",
      "execution_count": null,
      "metadata": {
        "id": "fPUBqSGoe9as"
      },
      "outputs": [],
      "source": [
        "!git clone https://github.com/gvogiatzis/trafficsim.git"
      ]
    },
    {
      "cell_type": "code",
      "execution_count": null,
      "metadata": {
        "id": "-bPB5Ej3FN4P"
      },
      "outputs": [],
      "source": [
        "cd trafficsim"
      ]
    },
    {
      "cell_type": "code",
      "execution_count": null,
      "metadata": {
        "id": "s5fjJMaT_Ozm"
      },
      "outputs": [],
      "source": [
        "!wget \"https://12c0-80-195-93-221.ngrok-free.app/sumo_data/flowmat.txt\""
      ]
    },
    {
      "cell_type": "code",
      "execution_count": null,
      "metadata": {
        "id": "grrbTw39_hTp"
      },
      "outputs": [],
      "source": [
        "from rl import SupervisedLearningPretrainer\n",
        "\n",
        "import matplotlib.pyplot as plt\n",
        "import torch\n",
        "import tqdm\n",
        "import numpy as np\n",
        "\n",
        "from rl.models import MLPnet, loadModel, saveModel, loadModel_from_dict\n",
        "import matplotlib.pyplot as plt\n",
        "\n",
        "num_epochs = 20\n",
        "network_layers = \"1024x1024\"\n",
        "dataset_size = 100000\n",
        "network_layers = [int(s) for s in network_layers.split(\"x\") if s.isnumeric()]\n",
        "out_model_fname = \"sup_model.pt\"\n",
        "flowmat_fname = \"flowmat.txt\""
      ]
    },
    {
      "cell_type": "code",
      "execution_count": null,
      "metadata": {
        "id": "AmNH_OikAY3k"
      },
      "outputs": [],
      "source": [
        "dataset = []\n",
        "W = np.loadtxt(flowmat_fname)\n",
        "\n",
        "input_dim, output_dim = W.shape\n",
        "Wtorch = torch.tensor(W,dtype=torch.float32)\n",
        "print(\"Generating dataset:\")\n",
        "for i in tqdm.tqdm(range(dataset_size)):\n",
        "    x = 30*torch.rand(size=(input_dim,), dtype=torch.float32)\n",
        "    a = np.argsort(x @ Wtorch)\n",
        "    t = a[-1]\n",
        "    dataset.append((x, t))\n",
        "model = MLPnet(input_dim,*network_layers,output_dim)\n",
        "trainer = SupervisedLearningPretrainer(dataset, model,use_gpu=True)\n",
        "\n",
        "stats = trainer.train_epochs(num_epochs)\n",
        "\n",
        "saveModel(model, out_model_fname)\n",
        "plt.figure()\n",
        "plt.title(\"Loss\")\n",
        "plt.plot(stats[\"training_loss_series\"], 'r-')\n",
        "plt.plot(stats[\"test_loss_series\"], 'b-')\n",
        "plt.figure()\n",
        "plt.title(\"Accuracy\")\n",
        "plt.plot(stats[\"training_acc_series\"], 'r-')\n",
        "plt.plot(stats[\"test_acc_series\"], 'b-')\n",
        "plt.show()"
      ]
    }
  ],
  "metadata": {
    "accelerator": "GPU",
    "colab": {
      "gpuType": "T4",
      "provenance": [],
      "include_colab_link": true
    },
    "kernelspec": {
      "display_name": "Python 3",
      "name": "python3"
    },
    "language_info": {
      "codemirror_mode": {
        "name": "ipython",
        "version": 3
      },
      "file_extension": ".py",
      "mimetype": "text/x-python",
      "name": "python",
      "nbconvert_exporter": "python",
      "pygments_lexer": "ipython3",
      "version": "3.8.13"
    }
  },
  "nbformat": 4,
  "nbformat_minor": 0
}